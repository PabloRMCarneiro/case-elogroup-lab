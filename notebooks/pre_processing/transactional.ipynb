{
 "cells": [
  {
   "cell_type": "code",
   "execution_count": null,
   "id": "2304eb21",
   "metadata": {},
   "outputs": [],
   "source": [
    "# Importando as bibliotecas necessárias\n",
    "import os\n",
    "import sys\n",
    "\n",
    "import pandas as pd\n",
    "\n",
    "sys.path.append(os.path.abspath(\"../../\"))\n",
    "from scripts.utils import to_snake_case, clean_whitespace"
   ]
  },
  {
   "cell_type": "code",
   "execution_count": 2,
   "id": "812790f1",
   "metadata": {},
   "outputs": [],
   "source": [
    "# Configurar pandas para exibir todas as colunas\n",
    "pd.set_option('display.max_columns', None)"
   ]
  },
  {
   "cell_type": "markdown",
   "id": "5f504f03",
   "metadata": {},
   "source": [
    "---"
   ]
  },
  {
   "cell_type": "markdown",
   "id": "545ef1c5",
   "metadata": {},
   "source": [
    "# Carregar data set"
   ]
  },
  {
   "cell_type": "code",
   "execution_count": null,
   "id": "6b432580",
   "metadata": {},
   "outputs": [
    {
     "data": {
      "text/html": [
       "<div>\n",
       "<style scoped>\n",
       "    .dataframe tbody tr th:only-of-type {\n",
       "        vertical-align: middle;\n",
       "    }\n",
       "\n",
       "    .dataframe tbody tr th {\n",
       "        vertical-align: top;\n",
       "    }\n",
       "\n",
       "    .dataframe thead th {\n",
       "        text-align: right;\n",
       "    }\n",
       "</style>\n",
       "<table border=\"1\" class=\"dataframe\">\n",
       "  <thead>\n",
       "    <tr style=\"text-align: right;\">\n",
       "      <th></th>\n",
       "      <th>Patient Id;Gender;Date of birth;Date of service;Service Id;Lab Id;CodItem;Testing Cost</th>\n",
       "    </tr>\n",
       "  </thead>\n",
       "  <tbody>\n",
       "    <tr>\n",
       "      <th>10210830256-BIO003;F;01/08/1976 00:00:00;2019-01-07;571904533475-38;L133;70003237;9</th>\n",
       "      <td>0</td>\n",
       "    </tr>\n",
       "    <tr>\n",
       "      <th>10210830256-BIO003;F;01/08/1976 00:00:00;2019-01-07;571904533475-38;L133;70000638;13</th>\n",
       "      <td>0</td>\n",
       "    </tr>\n",
       "    <tr>\n",
       "      <th>10210830256-BIO003;F;01/08/1976 00:00:00;2019-01-07;571904533475-38;L133;70001597;49</th>\n",
       "      <td>0</td>\n",
       "    </tr>\n",
       "    <tr>\n",
       "      <th>10210830256-BIO003;F;01/08/1976 00:00:00;2019-01-07;571904533475-38;L133;70000103;11</th>\n",
       "      <td>0</td>\n",
       "    </tr>\n",
       "    <tr>\n",
       "      <th>10210830256-BIO003;F;01/08/1976 00:00:00;2019-01-07;571904533475-38;L133;70000224;10</th>\n",
       "      <td>0</td>\n",
       "    </tr>\n",
       "  </tbody>\n",
       "</table>\n",
       "</div>"
      ],
      "text/plain": [
       "                                                    Patient Id;Gender;Date of birth;Date of service;Service Id;Lab Id;CodItem;Testing Cost\n",
       "10210830256-BIO003;F;01/08/1976 00:00:00;2019-0...                                                  0                                     \n",
       "10210830256-BIO003;F;01/08/1976 00:00:00;2019-0...                                                  0                                     \n",
       "10210830256-BIO003;F;01/08/1976 00:00:00;2019-0...                                                  0                                     \n",
       "10210830256-BIO003;F;01/08/1976 00:00:00;2019-0...                                                  0                                     \n",
       "10210830256-BIO003;F;01/08/1976 00:00:00;2019-0...                                                  0                                     "
      ]
     },
     "execution_count": 3,
     "metadata": {},
     "output_type": "execute_result"
    }
   ],
   "source": [
    "df_transactional = pd.read_csv('../../data/raw/transactional_data.csv')\n",
    "df_transactional.head()"
   ]
  },
  {
   "cell_type": "code",
   "execution_count": null,
   "id": "57a8f991",
   "metadata": {},
   "outputs": [
    {
     "data": {
      "text/html": [
       "<div>\n",
       "<style scoped>\n",
       "    .dataframe tbody tr th:only-of-type {\n",
       "        vertical-align: middle;\n",
       "    }\n",
       "\n",
       "    .dataframe tbody tr th {\n",
       "        vertical-align: top;\n",
       "    }\n",
       "\n",
       "    .dataframe thead th {\n",
       "        text-align: right;\n",
       "    }\n",
       "</style>\n",
       "<table border=\"1\" class=\"dataframe\">\n",
       "  <thead>\n",
       "    <tr style=\"text-align: right;\">\n",
       "      <th></th>\n",
       "      <th>Patient Id</th>\n",
       "      <th>Gender</th>\n",
       "      <th>Date of birth</th>\n",
       "      <th>Date of service</th>\n",
       "      <th>Service Id</th>\n",
       "      <th>Lab Id</th>\n",
       "      <th>CodItem</th>\n",
       "      <th>Testing Cost</th>\n",
       "    </tr>\n",
       "  </thead>\n",
       "  <tbody>\n",
       "    <tr>\n",
       "      <th>0</th>\n",
       "      <td>10210830256-BIO003</td>\n",
       "      <td>F</td>\n",
       "      <td>01/08/1976 00:00:00</td>\n",
       "      <td>2019-01-07</td>\n",
       "      <td>571904533475-38</td>\n",
       "      <td>L133</td>\n",
       "      <td>70003237</td>\n",
       "      <td>9,0</td>\n",
       "    </tr>\n",
       "    <tr>\n",
       "      <th>1</th>\n",
       "      <td>10210830256-BIO003</td>\n",
       "      <td>F</td>\n",
       "      <td>01/08/1976 00:00:00</td>\n",
       "      <td>2019-01-07</td>\n",
       "      <td>571904533475-38</td>\n",
       "      <td>L133</td>\n",
       "      <td>70000638</td>\n",
       "      <td>13,0</td>\n",
       "    </tr>\n",
       "    <tr>\n",
       "      <th>2</th>\n",
       "      <td>10210830256-BIO003</td>\n",
       "      <td>F</td>\n",
       "      <td>01/08/1976 00:00:00</td>\n",
       "      <td>2019-01-07</td>\n",
       "      <td>571904533475-38</td>\n",
       "      <td>L133</td>\n",
       "      <td>70001597</td>\n",
       "      <td>49,0</td>\n",
       "    </tr>\n",
       "    <tr>\n",
       "      <th>3</th>\n",
       "      <td>10210830256-BIO003</td>\n",
       "      <td>F</td>\n",
       "      <td>01/08/1976 00:00:00</td>\n",
       "      <td>2019-01-07</td>\n",
       "      <td>571904533475-38</td>\n",
       "      <td>L133</td>\n",
       "      <td>70000103</td>\n",
       "      <td>11,0</td>\n",
       "    </tr>\n",
       "    <tr>\n",
       "      <th>4</th>\n",
       "      <td>10210830256-BIO003</td>\n",
       "      <td>F</td>\n",
       "      <td>01/08/1976 00:00:00</td>\n",
       "      <td>2019-01-07</td>\n",
       "      <td>571904533475-38</td>\n",
       "      <td>L133</td>\n",
       "      <td>70000224</td>\n",
       "      <td>10,0</td>\n",
       "    </tr>\n",
       "  </tbody>\n",
       "</table>\n",
       "</div>"
      ],
      "text/plain": [
       "           Patient Id Gender        Date of birth Date of service  \\\n",
       "0  10210830256-BIO003      F  01/08/1976 00:00:00      2019-01-07   \n",
       "1  10210830256-BIO003      F  01/08/1976 00:00:00      2019-01-07   \n",
       "2  10210830256-BIO003      F  01/08/1976 00:00:00      2019-01-07   \n",
       "3  10210830256-BIO003      F  01/08/1976 00:00:00      2019-01-07   \n",
       "4  10210830256-BIO003      F  01/08/1976 00:00:00      2019-01-07   \n",
       "\n",
       "        Service Id Lab Id   CodItem Testing Cost  \n",
       "0  571904533475-38   L133  70003237          9,0  \n",
       "1  571904533475-38   L133  70000638         13,0  \n",
       "2  571904533475-38   L133  70001597         49,0  \n",
       "3  571904533475-38   L133  70000103         11,0  \n",
       "4  571904533475-38   L133  70000224         10,0  "
      ]
     },
     "execution_count": 4,
     "metadata": {},
     "output_type": "execute_result"
    }
   ],
   "source": [
    "# Como o separador do csv é ;, deve-se especificar isso ao ler o arquivo\n",
    "df_transactional = pd.read_csv(f'../../data/raw/transactional_data.csv', sep=';')\n",
    "df_transactional.head()"
   ]
  },
  {
   "cell_type": "markdown",
   "id": "2019c920",
   "metadata": {},
   "source": [
    "---"
   ]
  },
  {
   "cell_type": "markdown",
   "id": "0fc4ba38",
   "metadata": {},
   "source": [
    "# Verificar valores duplicados"
   ]
  },
  {
   "cell_type": "code",
   "execution_count": 5,
   "id": "8615128f",
   "metadata": {},
   "outputs": [
    {
     "data": {
      "text/plain": [
       "np.int64(14519)"
      ]
     },
     "execution_count": 5,
     "metadata": {},
     "output_type": "execute_result"
    }
   ],
   "source": [
    "# Verificando a quantidade de linhas duplicadas\n",
    "df_transactional.duplicated().sum()"
   ]
  },
  {
   "cell_type": "markdown",
   "id": "4ec2844c",
   "metadata": {},
   "source": [
    "Como o método utilizado para verificar a quantidade de linha duplicadas foi o `duplicated()`, infere-se que todos os valores de todas as colunas são iguais. Portannto pode-se deletar as linhas duplicadas"
   ]
  },
  {
   "cell_type": "code",
   "execution_count": 6,
   "id": "f029a483",
   "metadata": {},
   "outputs": [],
   "source": [
    "# Deletando as linhas duplicadas\n",
    "df_transactional.drop_duplicates(inplace=True)"
   ]
  },
  {
   "cell_type": "code",
   "execution_count": 7,
   "id": "f714e939",
   "metadata": {},
   "outputs": [
    {
     "data": {
      "text/plain": [
       "np.int64(0)"
      ]
     },
     "execution_count": 7,
     "metadata": {},
     "output_type": "execute_result"
    }
   ],
   "source": [
    "# Verificando novamente a quantidade de linhas duplicadas\n",
    "df_transactional.duplicated().sum()"
   ]
  },
  {
   "cell_type": "markdown",
   "id": "39a08a06",
   "metadata": {},
   "source": [
    "---"
   ]
  },
  {
   "cell_type": "markdown",
   "id": "5b74a416",
   "metadata": {},
   "source": [
    "# Analisar os tipos de dados"
   ]
  },
  {
   "cell_type": "code",
   "execution_count": 8,
   "id": "2c6b4175",
   "metadata": {},
   "outputs": [
    {
     "name": "stdout",
     "output_type": "stream",
     "text": [
      "<class 'pandas.core.frame.DataFrame'>\n",
      "Index: 2340722 entries, 0 to 2355240\n",
      "Data columns (total 8 columns):\n",
      " #   Column           Dtype \n",
      "---  ------           ----- \n",
      " 0   Patient Id       object\n",
      " 1   Gender           object\n",
      " 2   Date of birth    object\n",
      " 3   Date of service  object\n",
      " 4   Service Id       object\n",
      " 5   Lab Id           object\n",
      " 6   CodItem          int64 \n",
      " 7   Testing Cost     object\n",
      "dtypes: int64(1), object(7)\n",
      "memory usage: 160.7+ MB\n"
     ]
    }
   ],
   "source": [
    "df_transactional.info()"
   ]
  },
  {
   "cell_type": "markdown",
   "id": "e6f77dca",
   "metadata": {},
   "source": [
    "- `Date of birth`, `Date of birth` devem ser transformados para `datetime`\n",
    "- `Testing Cost` deve ser transformado para `float`"
   ]
  },
  {
   "cell_type": "code",
   "execution_count": 9,
   "id": "01d5e8d9",
   "metadata": {},
   "outputs": [],
   "source": [
    "# Realizando as transformações necessárias\n",
    "df_transactional['Date of birth'] = pd.to_datetime(df_transactional['Date of birth'], format='%d/%m/%Y %H:%M:%S')\n",
    "df_transactional['Date of service'] = pd.to_datetime(df_transactional['Date of service'], format='%Y-%m-%d')\n",
    "df_transactional['Testing Cost'] = df_transactional['Testing Cost'].str.replace(',', '.').astype(float)"
   ]
  },
  {
   "cell_type": "code",
   "execution_count": 10,
   "id": "623a3b92",
   "metadata": {},
   "outputs": [
    {
     "name": "stdout",
     "output_type": "stream",
     "text": [
      "<class 'pandas.core.frame.DataFrame'>\n",
      "Index: 2340722 entries, 0 to 2355240\n",
      "Data columns (total 8 columns):\n",
      " #   Column           Dtype         \n",
      "---  ------           -----         \n",
      " 0   Patient Id       object        \n",
      " 1   Gender           object        \n",
      " 2   Date of birth    datetime64[ns]\n",
      " 3   Date of service  datetime64[ns]\n",
      " 4   Service Id       object        \n",
      " 5   Lab Id           object        \n",
      " 6   CodItem          int64         \n",
      " 7   Testing Cost     float64       \n",
      "dtypes: datetime64[ns](2), float64(1), int64(1), object(4)\n",
      "memory usage: 160.7+ MB\n"
     ]
    }
   ],
   "source": [
    "# Verificando novamente o tipo de dados\n",
    "df_transactional.info()"
   ]
  },
  {
   "cell_type": "markdown",
   "id": "982a1bb2",
   "metadata": {},
   "source": [
    "---"
   ]
  },
  {
   "cell_type": "markdown",
   "id": "5f75a7d7",
   "metadata": {},
   "source": [
    "# Verificar valores nulos e ausentes"
   ]
  },
  {
   "cell_type": "code",
   "execution_count": 11,
   "id": "8107f2e7",
   "metadata": {},
   "outputs": [
    {
     "data": {
      "text/plain": [
       "Patient Id         0\n",
       "Gender             0\n",
       "Date of birth      1\n",
       "Date of service    0\n",
       "Service Id         0\n",
       "Lab Id             0\n",
       "CodItem            0\n",
       "Testing Cost       0\n",
       "dtype: int64"
      ]
     },
     "execution_count": 11,
     "metadata": {},
     "output_type": "execute_result"
    }
   ],
   "source": [
    "# Verificando a quantidade de valores nulos\n",
    "df_transactional.isnull().sum()"
   ]
  },
  {
   "cell_type": "code",
   "execution_count": 12,
   "id": "8c940917",
   "metadata": {},
   "outputs": [
    {
     "data": {
      "text/plain": [
       "Patient Id         0\n",
       "Gender             0\n",
       "Date of birth      1\n",
       "Date of service    0\n",
       "Service Id         0\n",
       "Lab Id             0\n",
       "CodItem            0\n",
       "Testing Cost       0\n",
       "dtype: int64"
      ]
     },
     "execution_count": 12,
     "metadata": {},
     "output_type": "execute_result"
    }
   ],
   "source": [
    "# Verificando a quantidade de valores ausentes\n",
    "df_transactional.isna().sum()"
   ]
  },
  {
   "cell_type": "code",
   "execution_count": 13,
   "id": "400759be",
   "metadata": {},
   "outputs": [
    {
     "data": {
      "text/html": [
       "<div>\n",
       "<style scoped>\n",
       "    .dataframe tbody tr th:only-of-type {\n",
       "        vertical-align: middle;\n",
       "    }\n",
       "\n",
       "    .dataframe tbody tr th {\n",
       "        vertical-align: top;\n",
       "    }\n",
       "\n",
       "    .dataframe thead th {\n",
       "        text-align: right;\n",
       "    }\n",
       "</style>\n",
       "<table border=\"1\" class=\"dataframe\">\n",
       "  <thead>\n",
       "    <tr style=\"text-align: right;\">\n",
       "      <th></th>\n",
       "      <th>Patient Id</th>\n",
       "      <th>Gender</th>\n",
       "      <th>Date of birth</th>\n",
       "      <th>Date of service</th>\n",
       "      <th>Service Id</th>\n",
       "      <th>Lab Id</th>\n",
       "      <th>CodItem</th>\n",
       "      <th>Testing Cost</th>\n",
       "    </tr>\n",
       "  </thead>\n",
       "  <tbody>\n",
       "    <tr>\n",
       "      <th>1253947</th>\n",
       "      <td>7659985004-1</td>\n",
       "      <td>F</td>\n",
       "      <td>NaT</td>\n",
       "      <td>2020-02-22</td>\n",
       "      <td>7659985004-2-1</td>\n",
       "      <td>L152</td>\n",
       "      <td>70000107</td>\n",
       "      <td>48.0</td>\n",
       "    </tr>\n",
       "  </tbody>\n",
       "</table>\n",
       "</div>"
      ],
      "text/plain": [
       "           Patient Id Gender Date of birth Date of service      Service Id  \\\n",
       "1253947  7659985004-1      F           NaT      2020-02-22  7659985004-2-1   \n",
       "\n",
       "        Lab Id   CodItem  Testing Cost  \n",
       "1253947   L152  70000107          48.0  "
      ]
     },
     "execution_count": 13,
     "metadata": {},
     "output_type": "execute_result"
    }
   ],
   "source": [
    "# Verificando o valor nulo\n",
    "df_transactional[df_transactional['Date of birth'].isnull()]"
   ]
  },
  {
   "cell_type": "markdown",
   "id": "1607e0b2",
   "metadata": {},
   "source": [
    "Como o dado aparenta ser relavante, pode-se verificar se o paciente ja realizou outro exame e se tem a data de aniversário"
   ]
  },
  {
   "cell_type": "code",
   "execution_count": 14,
   "id": "4f40e207",
   "metadata": {},
   "outputs": [
    {
     "data": {
      "text/html": [
       "<div>\n",
       "<style scoped>\n",
       "    .dataframe tbody tr th:only-of-type {\n",
       "        vertical-align: middle;\n",
       "    }\n",
       "\n",
       "    .dataframe tbody tr th {\n",
       "        vertical-align: top;\n",
       "    }\n",
       "\n",
       "    .dataframe thead th {\n",
       "        text-align: right;\n",
       "    }\n",
       "</style>\n",
       "<table border=\"1\" class=\"dataframe\">\n",
       "  <thead>\n",
       "    <tr style=\"text-align: right;\">\n",
       "      <th></th>\n",
       "      <th>Patient Id</th>\n",
       "      <th>Gender</th>\n",
       "      <th>Date of birth</th>\n",
       "      <th>Date of service</th>\n",
       "      <th>Service Id</th>\n",
       "      <th>Lab Id</th>\n",
       "      <th>CodItem</th>\n",
       "      <th>Testing Cost</th>\n",
       "    </tr>\n",
       "  </thead>\n",
       "  <tbody>\n",
       "    <tr>\n",
       "      <th>1253947</th>\n",
       "      <td>7659985004-1</td>\n",
       "      <td>F</td>\n",
       "      <td>NaT</td>\n",
       "      <td>2020-02-22</td>\n",
       "      <td>7659985004-2-1</td>\n",
       "      <td>L152</td>\n",
       "      <td>70000107</td>\n",
       "      <td>48.0</td>\n",
       "    </tr>\n",
       "  </tbody>\n",
       "</table>\n",
       "</div>"
      ],
      "text/plain": [
       "           Patient Id Gender Date of birth Date of service      Service Id  \\\n",
       "1253947  7659985004-1      F           NaT      2020-02-22  7659985004-2-1   \n",
       "\n",
       "        Lab Id   CodItem  Testing Cost  \n",
       "1253947   L152  70000107          48.0  "
      ]
     },
     "execution_count": 14,
     "metadata": {},
     "output_type": "execute_result"
    }
   ],
   "source": [
    "# Verificando se o paciente realizou algum outro exame\n",
    "df_transactional[df_transactional['Patient Id'] == '7659985004-1']"
   ]
  },
  {
   "cell_type": "code",
   "execution_count": 15,
   "id": "bd165374",
   "metadata": {},
   "outputs": [],
   "source": [
    "# Como não realizou, pode-se preencher como a meadiana dos outros pacientes\n",
    "df_transactional['Date of birth'] = df_transactional['Date of birth'].fillna(df_transactional['Date of birth'].median())"
   ]
  },
  {
   "cell_type": "code",
   "execution_count": 16,
   "id": "82362a44",
   "metadata": {},
   "outputs": [
    {
     "data": {
      "text/html": [
       "<div>\n",
       "<style scoped>\n",
       "    .dataframe tbody tr th:only-of-type {\n",
       "        vertical-align: middle;\n",
       "    }\n",
       "\n",
       "    .dataframe tbody tr th {\n",
       "        vertical-align: top;\n",
       "    }\n",
       "\n",
       "    .dataframe thead th {\n",
       "        text-align: right;\n",
       "    }\n",
       "</style>\n",
       "<table border=\"1\" class=\"dataframe\">\n",
       "  <thead>\n",
       "    <tr style=\"text-align: right;\">\n",
       "      <th></th>\n",
       "      <th>Patient Id</th>\n",
       "      <th>Gender</th>\n",
       "      <th>Date of birth</th>\n",
       "      <th>Date of service</th>\n",
       "      <th>Service Id</th>\n",
       "      <th>Lab Id</th>\n",
       "      <th>CodItem</th>\n",
       "      <th>Testing Cost</th>\n",
       "    </tr>\n",
       "  </thead>\n",
       "  <tbody>\n",
       "    <tr>\n",
       "      <th>1253947</th>\n",
       "      <td>7659985004-1</td>\n",
       "      <td>F</td>\n",
       "      <td>1977-08-11</td>\n",
       "      <td>2020-02-22</td>\n",
       "      <td>7659985004-2-1</td>\n",
       "      <td>L152</td>\n",
       "      <td>70000107</td>\n",
       "      <td>48.0</td>\n",
       "    </tr>\n",
       "  </tbody>\n",
       "</table>\n",
       "</div>"
      ],
      "text/plain": [
       "           Patient Id Gender Date of birth Date of service      Service Id  \\\n",
       "1253947  7659985004-1      F    1977-08-11      2020-02-22  7659985004-2-1   \n",
       "\n",
       "        Lab Id   CodItem  Testing Cost  \n",
       "1253947   L152  70000107          48.0  "
      ]
     },
     "execution_count": 16,
     "metadata": {},
     "output_type": "execute_result"
    }
   ],
   "source": [
    "# Verificando valor\n",
    "df_transactional[df_transactional['Patient Id'] == '7659985004-1']"
   ]
  },
  {
   "cell_type": "markdown",
   "id": "991c74b9",
   "metadata": {},
   "source": [
    "---"
   ]
  },
  {
   "cell_type": "markdown",
   "id": "51fc82e0",
   "metadata": {},
   "source": [
    "# Transformações Gerais"
   ]
  },
  {
   "cell_type": "code",
   "execution_count": 17,
   "id": "c696c451",
   "metadata": {},
   "outputs": [],
   "source": [
    "# Transformando as colunas em snake_case\n",
    "to_snake_case(df_transactional)\n",
    "\n",
    "# Limpando os espaços em branco\n",
    "clean_whitespace(df_transactional)"
   ]
  },
  {
   "cell_type": "markdown",
   "id": "caff7f22",
   "metadata": {},
   "source": [
    "---"
   ]
  },
  {
   "cell_type": "markdown",
   "id": "32a16046",
   "metadata": {},
   "source": [
    "# Validação Final"
   ]
  },
  {
   "cell_type": "code",
   "execution_count": 18,
   "id": "49c4deaf",
   "metadata": {},
   "outputs": [
    {
     "data": {
      "text/html": [
       "<div>\n",
       "<style scoped>\n",
       "    .dataframe tbody tr th:only-of-type {\n",
       "        vertical-align: middle;\n",
       "    }\n",
       "\n",
       "    .dataframe tbody tr th {\n",
       "        vertical-align: top;\n",
       "    }\n",
       "\n",
       "    .dataframe thead th {\n",
       "        text-align: right;\n",
       "    }\n",
       "</style>\n",
       "<table border=\"1\" class=\"dataframe\">\n",
       "  <thead>\n",
       "    <tr style=\"text-align: right;\">\n",
       "      <th></th>\n",
       "      <th>patient__id</th>\n",
       "      <th>gender</th>\n",
       "      <th>date_of_birth</th>\n",
       "      <th>date_of_service</th>\n",
       "      <th>service__id</th>\n",
       "      <th>lab__id</th>\n",
       "      <th>cod_item</th>\n",
       "      <th>testing__cost</th>\n",
       "    </tr>\n",
       "  </thead>\n",
       "  <tbody>\n",
       "    <tr>\n",
       "      <th>count</th>\n",
       "      <td>2340722</td>\n",
       "      <td>2340722</td>\n",
       "      <td>2340722</td>\n",
       "      <td>2340722</td>\n",
       "      <td>2340722</td>\n",
       "      <td>2340722</td>\n",
       "      <td>2.340722e+06</td>\n",
       "      <td>2.340722e+06</td>\n",
       "    </tr>\n",
       "    <tr>\n",
       "      <th>unique</th>\n",
       "      <td>501446</td>\n",
       "      <td>3</td>\n",
       "      <td>NaN</td>\n",
       "      <td>NaN</td>\n",
       "      <td>660059</td>\n",
       "      <td>118</td>\n",
       "      <td>NaN</td>\n",
       "      <td>NaN</td>\n",
       "    </tr>\n",
       "    <tr>\n",
       "      <th>top</th>\n",
       "      <td>9999999-1</td>\n",
       "      <td>F</td>\n",
       "      <td>NaN</td>\n",
       "      <td>NaN</td>\n",
       "      <td>6004395771-8-1</td>\n",
       "      <td>L133</td>\n",
       "      <td>NaN</td>\n",
       "      <td>NaN</td>\n",
       "    </tr>\n",
       "    <tr>\n",
       "      <th>freq</th>\n",
       "      <td>1409</td>\n",
       "      <td>1491030</td>\n",
       "      <td>NaN</td>\n",
       "      <td>NaN</td>\n",
       "      <td>87</td>\n",
       "      <td>121886</td>\n",
       "      <td>NaN</td>\n",
       "      <td>NaN</td>\n",
       "    </tr>\n",
       "    <tr>\n",
       "      <th>mean</th>\n",
       "      <td>NaN</td>\n",
       "      <td>NaN</td>\n",
       "      <td>1978-01-24 18:56:22.388681664</td>\n",
       "      <td>2020-01-12 14:34:25.793375744</td>\n",
       "      <td>NaN</td>\n",
       "      <td>NaN</td>\n",
       "      <td>7.000322e+07</td>\n",
       "      <td>5.110238e+01</td>\n",
       "    </tr>\n",
       "    <tr>\n",
       "      <th>min</th>\n",
       "      <td>NaN</td>\n",
       "      <td>NaN</td>\n",
       "      <td>1859-12-28 00:00:00</td>\n",
       "      <td>2019-01-01 00:00:00</td>\n",
       "      <td>NaN</td>\n",
       "      <td>NaN</td>\n",
       "      <td>7.000004e+07</td>\n",
       "      <td>0.000000e+00</td>\n",
       "    </tr>\n",
       "    <tr>\n",
       "      <th>25%</th>\n",
       "      <td>NaN</td>\n",
       "      <td>NaN</td>\n",
       "      <td>1965-04-06 00:00:00</td>\n",
       "      <td>2019-07-11 00:00:00</td>\n",
       "      <td>NaN</td>\n",
       "      <td>NaN</td>\n",
       "      <td>7.000113e+07</td>\n",
       "      <td>1.100000e+01</td>\n",
       "    </tr>\n",
       "    <tr>\n",
       "      <th>50%</th>\n",
       "      <td>NaN</td>\n",
       "      <td>NaN</td>\n",
       "      <td>1977-08-11 00:00:00</td>\n",
       "      <td>2020-01-15 00:00:00</td>\n",
       "      <td>NaN</td>\n",
       "      <td>NaN</td>\n",
       "      <td>7.000376e+07</td>\n",
       "      <td>2.400000e+01</td>\n",
       "    </tr>\n",
       "    <tr>\n",
       "      <th>75%</th>\n",
       "      <td>NaN</td>\n",
       "      <td>NaN</td>\n",
       "      <td>1989-08-05 00:00:00</td>\n",
       "      <td>2020-07-14 00:00:00</td>\n",
       "      <td>NaN</td>\n",
       "      <td>NaN</td>\n",
       "      <td>7.000446e+07</td>\n",
       "      <td>4.900000e+01</td>\n",
       "    </tr>\n",
       "    <tr>\n",
       "      <th>max</th>\n",
       "      <td>NaN</td>\n",
       "      <td>NaN</td>\n",
       "      <td>2020-02-08 00:00:00</td>\n",
       "      <td>2021-02-12 00:00:00</td>\n",
       "      <td>NaN</td>\n",
       "      <td>NaN</td>\n",
       "      <td>7.000900e+07</td>\n",
       "      <td>9.500000e+03</td>\n",
       "    </tr>\n",
       "    <tr>\n",
       "      <th>std</th>\n",
       "      <td>NaN</td>\n",
       "      <td>NaN</td>\n",
       "      <td>NaN</td>\n",
       "      <td>NaN</td>\n",
       "      <td>NaN</td>\n",
       "      <td>NaN</td>\n",
       "      <td>1.907708e+03</td>\n",
       "      <td>9.789854e+01</td>\n",
       "    </tr>\n",
       "  </tbody>\n",
       "</table>\n",
       "</div>"
      ],
      "text/plain": [
       "       patient__id   gender                  date_of_birth  \\\n",
       "count      2340722  2340722                        2340722   \n",
       "unique      501446        3                            NaN   \n",
       "top      9999999-1        F                            NaN   \n",
       "freq          1409  1491030                            NaN   \n",
       "mean           NaN      NaN  1978-01-24 18:56:22.388681664   \n",
       "min            NaN      NaN            1859-12-28 00:00:00   \n",
       "25%            NaN      NaN            1965-04-06 00:00:00   \n",
       "50%            NaN      NaN            1977-08-11 00:00:00   \n",
       "75%            NaN      NaN            1989-08-05 00:00:00   \n",
       "max            NaN      NaN            2020-02-08 00:00:00   \n",
       "std            NaN      NaN                            NaN   \n",
       "\n",
       "                      date_of_service     service__id  lab__id      cod_item  \\\n",
       "count                         2340722         2340722  2340722  2.340722e+06   \n",
       "unique                            NaN          660059      118           NaN   \n",
       "top                               NaN  6004395771-8-1     L133           NaN   \n",
       "freq                              NaN              87   121886           NaN   \n",
       "mean    2020-01-12 14:34:25.793375744             NaN      NaN  7.000322e+07   \n",
       "min               2019-01-01 00:00:00             NaN      NaN  7.000004e+07   \n",
       "25%               2019-07-11 00:00:00             NaN      NaN  7.000113e+07   \n",
       "50%               2020-01-15 00:00:00             NaN      NaN  7.000376e+07   \n",
       "75%               2020-07-14 00:00:00             NaN      NaN  7.000446e+07   \n",
       "max               2021-02-12 00:00:00             NaN      NaN  7.000900e+07   \n",
       "std                               NaN             NaN      NaN  1.907708e+03   \n",
       "\n",
       "        testing__cost  \n",
       "count    2.340722e+06  \n",
       "unique            NaN  \n",
       "top               NaN  \n",
       "freq              NaN  \n",
       "mean     5.110238e+01  \n",
       "min      0.000000e+00  \n",
       "25%      1.100000e+01  \n",
       "50%      2.400000e+01  \n",
       "75%      4.900000e+01  \n",
       "max      9.500000e+03  \n",
       "std      9.789854e+01  "
      ]
     },
     "execution_count": 18,
     "metadata": {},
     "output_type": "execute_result"
    }
   ],
   "source": [
    "df_transactional.describe(include='all')"
   ]
  },
  {
   "cell_type": "markdown",
   "id": "850b5444",
   "metadata": {},
   "source": [
    "---"
   ]
  },
  {
   "cell_type": "markdown",
   "id": "29f3314d",
   "metadata": {},
   "source": [
    "# Exportar data set limpo"
   ]
  },
  {
   "cell_type": "code",
   "execution_count": 19,
   "id": "68eabcc5",
   "metadata": {},
   "outputs": [],
   "source": [
    "df_transactional.to_csv('../../data/interim/transactional_data_clean.csv', index=False)"
   ]
  }
 ],
 "metadata": {
  "kernelspec": {
   "display_name": "venv",
   "language": "python",
   "name": "python3"
  },
  "language_info": {
   "codemirror_mode": {
    "name": "ipython",
    "version": 3
   },
   "file_extension": ".py",
   "mimetype": "text/x-python",
   "name": "python",
   "nbconvert_exporter": "python",
   "pygments_lexer": "ipython3",
   "version": "3.10.12"
  }
 },
 "nbformat": 4,
 "nbformat_minor": 5
}
