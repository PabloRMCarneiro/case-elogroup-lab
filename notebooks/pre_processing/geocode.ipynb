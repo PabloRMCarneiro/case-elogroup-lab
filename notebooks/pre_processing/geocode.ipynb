{
 "cells": [
  {
   "cell_type": "code",
   "execution_count": 42,
   "id": "2304eb21",
   "metadata": {},
   "outputs": [],
   "source": [
    "# Importando as bibliotecas necessárias\n",
    "import os\n",
    "import sys\n",
    "\n",
    "import pandas as pd\n",
    "\n",
    "sys.path.append(os.path.abspath(\"../../\"))\n",
    "from pipe.preprocess.utils import to_snake_case, clean_whitespace"
   ]
  },
  {
   "cell_type": "code",
   "execution_count": 43,
   "id": "812790f1",
   "metadata": {},
   "outputs": [],
   "source": [
    "# Configurar pandas para exibir todas as colunas\n",
    "pd.set_option('display.max_columns', None)"
   ]
  },
  {
   "cell_type": "markdown",
   "id": "5f504f03",
   "metadata": {},
   "source": [
    "---"
   ]
  },
  {
   "cell_type": "markdown",
   "id": "545ef1c5",
   "metadata": {},
   "source": [
    "# Carregar data set"
   ]
  },
  {
   "cell_type": "code",
   "execution_count": 44,
   "id": "6b432580",
   "metadata": {},
   "outputs": [
    {
     "data": {
      "text/html": [
       "<div>\n",
       "<style scoped>\n",
       "    .dataframe tbody tr th:only-of-type {\n",
       "        vertical-align: middle;\n",
       "    }\n",
       "\n",
       "    .dataframe tbody tr th {\n",
       "        vertical-align: top;\n",
       "    }\n",
       "\n",
       "    .dataframe thead th {\n",
       "        text-align: right;\n",
       "    }\n",
       "</style>\n",
       "<table border=\"1\" class=\"dataframe\">\n",
       "  <thead>\n",
       "    <tr style=\"text-align: right;\">\n",
       "      <th></th>\n",
       "      <th>Unnamed: 0</th>\n",
       "      <th>Lab Id</th>\n",
       "      <th>Address</th>\n",
       "      <th>Location</th>\n",
       "      <th>Zipcode</th>\n",
       "    </tr>\n",
       "  </thead>\n",
       "  <tbody>\n",
       "    <tr>\n",
       "      <th>0</th>\n",
       "      <td>0</td>\n",
       "      <td>L152</td>\n",
       "      <td>3800 PLEASANT HILL RD STE 1, DULUTH, GA 30096</td>\n",
       "      <td>34.000319,-84.1629724</td>\n",
       "      <td>30096.0</td>\n",
       "    </tr>\n",
       "    <tr>\n",
       "      <th>1</th>\n",
       "      <td>1</td>\n",
       "      <td>L520</td>\n",
       "      <td>1614 N JAMES ST, ROME, NY 13440</td>\n",
       "      <td>43.2311327,-75.4445363</td>\n",
       "      <td>13440.0</td>\n",
       "    </tr>\n",
       "    <tr>\n",
       "      <th>2</th>\n",
       "      <td>2</td>\n",
       "      <td>L141</td>\n",
       "      <td>12911 120TH AVE NE STE D60, KIRKLAND, WA 98034</td>\n",
       "      <td>47.7162786,-122.1838152</td>\n",
       "      <td>98034.0</td>\n",
       "    </tr>\n",
       "    <tr>\n",
       "      <th>3</th>\n",
       "      <td>3</td>\n",
       "      <td>L524</td>\n",
       "      <td>5667 PEACHTREE DUNWOODY RD 250, ATLANTA, GA 30342</td>\n",
       "      <td>33.9093875,-84.3529096</td>\n",
       "      <td>30342.0</td>\n",
       "    </tr>\n",
       "    <tr>\n",
       "      <th>4</th>\n",
       "      <td>4</td>\n",
       "      <td>L545</td>\n",
       "      <td>1204 IL HWY 164, OQUAWKA, IL 61469</td>\n",
       "      <td>40.9309925,-90.9437598</td>\n",
       "      <td>61469.0</td>\n",
       "    </tr>\n",
       "  </tbody>\n",
       "</table>\n",
       "</div>"
      ],
      "text/plain": [
       "   Unnamed: 0 Lab Id                                            Address  \\\n",
       "0           0   L152      3800 PLEASANT HILL RD STE 1, DULUTH, GA 30096   \n",
       "1           1   L520                    1614 N JAMES ST, ROME, NY 13440   \n",
       "2           2   L141     12911 120TH AVE NE STE D60, KIRKLAND, WA 98034   \n",
       "3           3   L524  5667 PEACHTREE DUNWOODY RD 250, ATLANTA, GA 30342   \n",
       "4           4   L545                 1204 IL HWY 164, OQUAWKA, IL 61469   \n",
       "\n",
       "                  Location  Zipcode  \n",
       "0    34.000319,-84.1629724  30096.0  \n",
       "1   43.2311327,-75.4445363  13440.0  \n",
       "2  47.7162786,-122.1838152  98034.0  \n",
       "3   33.9093875,-84.3529096  30342.0  \n",
       "4   40.9309925,-90.9437598  61469.0  "
      ]
     },
     "execution_count": 44,
     "metadata": {},
     "output_type": "execute_result"
    }
   ],
   "source": [
    "df_geocode = pd.read_csv('../../data/raw/df_geocode.csv')\n",
    "df_geocode.head()"
   ]
  },
  {
   "cell_type": "code",
   "execution_count": 45,
   "id": "57a8f991",
   "metadata": {},
   "outputs": [],
   "source": [
    "# Deletar a coluna 'Unnamed: 0' (apenas é um índice)\n",
    "df_geocode.drop(columns=['Unnamed: 0'], inplace=True)"
   ]
  },
  {
   "cell_type": "markdown",
   "id": "2019c920",
   "metadata": {},
   "source": [
    "---"
   ]
  },
  {
   "cell_type": "markdown",
   "id": "0fc4ba38",
   "metadata": {},
   "source": [
    "# Verificar valores duplicados"
   ]
  },
  {
   "cell_type": "code",
   "execution_count": 46,
   "id": "8615128f",
   "metadata": {},
   "outputs": [
    {
     "data": {
      "text/plain": [
       "np.int64(0)"
      ]
     },
     "execution_count": 46,
     "metadata": {},
     "output_type": "execute_result"
    }
   ],
   "source": [
    "# Verificando a quantidade de linhas duplicadas\n",
    "df_geocode.duplicated().sum()"
   ]
  },
  {
   "cell_type": "markdown",
   "id": "39a08a06",
   "metadata": {},
   "source": [
    "---"
   ]
  },
  {
   "cell_type": "markdown",
   "id": "5b74a416",
   "metadata": {},
   "source": [
    "# Analisar os tipos de dados"
   ]
  },
  {
   "cell_type": "code",
   "execution_count": 47,
   "id": "2c6b4175",
   "metadata": {},
   "outputs": [
    {
     "name": "stdout",
     "output_type": "stream",
     "text": [
      "<class 'pandas.core.frame.DataFrame'>\n",
      "RangeIndex: 119 entries, 0 to 118\n",
      "Data columns (total 4 columns):\n",
      " #   Column    Non-Null Count  Dtype  \n",
      "---  ------    --------------  -----  \n",
      " 0   Lab Id    119 non-null    object \n",
      " 1   Address   119 non-null    object \n",
      " 2   Location  119 non-null    object \n",
      " 3   Zipcode   118 non-null    float64\n",
      "dtypes: float64(1), object(3)\n",
      "memory usage: 3.8+ KB\n"
     ]
    }
   ],
   "source": [
    "df_geocode.info()"
   ]
  },
  {
   "cell_type": "markdown",
   "id": "e6f77dca",
   "metadata": {},
   "source": [
    "- `Zipcode` deve ser transformada para `str` por se tratar de uma variável de identificação"
   ]
  },
  {
   "cell_type": "code",
   "execution_count": 48,
   "id": "387a8c17",
   "metadata": {},
   "outputs": [
    {
     "data": {
      "text/plain": [
       "Lab Id      0\n",
       "Address     0\n",
       "Location    0\n",
       "Zipcode     1\n",
       "dtype: int64"
      ]
     },
     "execution_count": 48,
     "metadata": {},
     "output_type": "execute_result"
    }
   ],
   "source": [
    "# Antes de realiza a transformação, verificar se há valores nulos\n",
    "df_geocode.isnull().sum()"
   ]
  },
  {
   "cell_type": "code",
   "execution_count": 49,
   "id": "18f3bd7d",
   "metadata": {},
   "outputs": [
    {
     "data": {
      "text/html": [
       "<div>\n",
       "<style scoped>\n",
       "    .dataframe tbody tr th:only-of-type {\n",
       "        vertical-align: middle;\n",
       "    }\n",
       "\n",
       "    .dataframe tbody tr th {\n",
       "        vertical-align: top;\n",
       "    }\n",
       "\n",
       "    .dataframe thead th {\n",
       "        text-align: right;\n",
       "    }\n",
       "</style>\n",
       "<table border=\"1\" class=\"dataframe\">\n",
       "  <thead>\n",
       "    <tr style=\"text-align: right;\">\n",
       "      <th></th>\n",
       "      <th>Lab Id</th>\n",
       "      <th>Address</th>\n",
       "      <th>Location</th>\n",
       "      <th>Zipcode</th>\n",
       "    </tr>\n",
       "  </thead>\n",
       "  <tbody>\n",
       "    <tr>\n",
       "      <th>83</th>\n",
       "      <td>-2</td>\n",
       "      <td>Unavailable</td>\n",
       "      <td>Unavailable</td>\n",
       "      <td>NaN</td>\n",
       "    </tr>\n",
       "  </tbody>\n",
       "</table>\n",
       "</div>"
      ],
      "text/plain": [
       "   Lab Id      Address     Location  Zipcode\n",
       "83     -2  Unavailable  Unavailable      NaN"
      ]
     },
     "execution_count": 49,
     "metadata": {},
     "output_type": "execute_result"
    }
   ],
   "source": [
    "# Verificando valor nulo\n",
    "df_geocode[df_geocode['Zipcode'].isnull()]"
   ]
  },
  {
   "cell_type": "code",
   "execution_count": 50,
   "id": "96c2a3c6",
   "metadata": {},
   "outputs": [],
   "source": [
    "# Valores não fazem sentido, então deleta-se\n",
    "df_geocode = df_geocode[~df_geocode['Zipcode'].isnull()]"
   ]
  },
  {
   "cell_type": "code",
   "execution_count": 51,
   "id": "d0874ab2",
   "metadata": {},
   "outputs": [
    {
     "data": {
      "text/plain": [
       "Lab Id      0\n",
       "Address     0\n",
       "Location    0\n",
       "Zipcode     0\n",
       "dtype: int64"
      ]
     },
     "execution_count": 51,
     "metadata": {},
     "output_type": "execute_result"
    }
   ],
   "source": [
    "# Validando\n",
    "df_geocode.isnull().sum()"
   ]
  },
  {
   "cell_type": "code",
   "execution_count": 52,
   "id": "01d5e8d9",
   "metadata": {},
   "outputs": [],
   "source": [
    "# Transformando zipcode para string\n",
    "df_geocode['Zipcode'] = df_geocode['Zipcode'].astype(str).str.replace('.0', '')"
   ]
  },
  {
   "cell_type": "code",
   "execution_count": 53,
   "id": "623a3b92",
   "metadata": {},
   "outputs": [
    {
     "name": "stdout",
     "output_type": "stream",
     "text": [
      "<class 'pandas.core.frame.DataFrame'>\n",
      "Index: 118 entries, 0 to 118\n",
      "Data columns (total 4 columns):\n",
      " #   Column    Non-Null Count  Dtype \n",
      "---  ------    --------------  ----- \n",
      " 0   Lab Id    118 non-null    object\n",
      " 1   Address   118 non-null    object\n",
      " 2   Location  118 non-null    object\n",
      " 3   Zipcode   118 non-null    object\n",
      "dtypes: object(4)\n",
      "memory usage: 4.6+ KB\n"
     ]
    }
   ],
   "source": [
    "# Verificando novamente o tipo de dados\n",
    "df_geocode.info()"
   ]
  },
  {
   "cell_type": "markdown",
   "id": "982a1bb2",
   "metadata": {},
   "source": [
    "---"
   ]
  },
  {
   "cell_type": "markdown",
   "id": "2e997eb9",
   "metadata": {},
   "source": [
    "# Organizar os dados"
   ]
  },
  {
   "cell_type": "code",
   "execution_count": 54,
   "id": "30a7a166",
   "metadata": {},
   "outputs": [
    {
     "data": {
      "text/html": [
       "<div>\n",
       "<style scoped>\n",
       "    .dataframe tbody tr th:only-of-type {\n",
       "        vertical-align: middle;\n",
       "    }\n",
       "\n",
       "    .dataframe tbody tr th {\n",
       "        vertical-align: top;\n",
       "    }\n",
       "\n",
       "    .dataframe thead th {\n",
       "        text-align: right;\n",
       "    }\n",
       "</style>\n",
       "<table border=\"1\" class=\"dataframe\">\n",
       "  <thead>\n",
       "    <tr style=\"text-align: right;\">\n",
       "      <th></th>\n",
       "      <th>Lab Id</th>\n",
       "      <th>Address</th>\n",
       "      <th>Zipcode</th>\n",
       "      <th>latitude</th>\n",
       "      <th>longitude</th>\n",
       "    </tr>\n",
       "  </thead>\n",
       "  <tbody>\n",
       "    <tr>\n",
       "      <th>0</th>\n",
       "      <td>L152</td>\n",
       "      <td>3800 PLEASANT HILL RD STE 1, DULUTH, GA 30096</td>\n",
       "      <td>30096</td>\n",
       "      <td>34.000319</td>\n",
       "      <td>-84.1629724</td>\n",
       "    </tr>\n",
       "    <tr>\n",
       "      <th>1</th>\n",
       "      <td>L520</td>\n",
       "      <td>1614 N JAMES ST, ROME, NY 13440</td>\n",
       "      <td>13440</td>\n",
       "      <td>43.2311327</td>\n",
       "      <td>-75.4445363</td>\n",
       "    </tr>\n",
       "    <tr>\n",
       "      <th>2</th>\n",
       "      <td>L141</td>\n",
       "      <td>12911 120TH AVE NE STE D60, KIRKLAND, WA 98034</td>\n",
       "      <td>98034</td>\n",
       "      <td>47.7162786</td>\n",
       "      <td>-122.1838152</td>\n",
       "    </tr>\n",
       "    <tr>\n",
       "      <th>3</th>\n",
       "      <td>L524</td>\n",
       "      <td>5667 PEACHTREE DUNWOODY RD 250, ATLANTA, GA 30342</td>\n",
       "      <td>30342</td>\n",
       "      <td>33.9093875</td>\n",
       "      <td>-84.3529096</td>\n",
       "    </tr>\n",
       "    <tr>\n",
       "      <th>4</th>\n",
       "      <td>L545</td>\n",
       "      <td>1204 IL HWY 164, OQUAWKA, IL 61469</td>\n",
       "      <td>61469</td>\n",
       "      <td>40.9309925</td>\n",
       "      <td>-90.9437598</td>\n",
       "    </tr>\n",
       "  </tbody>\n",
       "</table>\n",
       "</div>"
      ],
      "text/plain": [
       "  Lab Id                                            Address Zipcode  \\\n",
       "0   L152      3800 PLEASANT HILL RD STE 1, DULUTH, GA 30096   30096   \n",
       "1   L520                    1614 N JAMES ST, ROME, NY 13440   13440   \n",
       "2   L141     12911 120TH AVE NE STE D60, KIRKLAND, WA 98034   98034   \n",
       "3   L524  5667 PEACHTREE DUNWOODY RD 250, ATLANTA, GA 30342   30342   \n",
       "4   L545                 1204 IL HWY 164, OQUAWKA, IL 61469   61469   \n",
       "\n",
       "     latitude     longitude  \n",
       "0   34.000319   -84.1629724  \n",
       "1  43.2311327   -75.4445363  \n",
       "2  47.7162786  -122.1838152  \n",
       "3  33.9093875   -84.3529096  \n",
       "4  40.9309925   -90.9437598  "
      ]
     },
     "execution_count": 54,
     "metadata": {},
     "output_type": "execute_result"
    }
   ],
   "source": [
    "# Separa a latitude e longitude em colunas separadas e transformar para float\n",
    "df_geocode[['latitude', 'longitude']] = df_geocode['Location'].str.split(',', expand=True)\n",
    "\n",
    "# Deletando a coluna Location, sem mais necessidade\n",
    "df_geocode.drop(columns=['Location'], inplace=True)\n",
    "\n",
    "df_geocode.head()"
   ]
  },
  {
   "cell_type": "code",
   "execution_count": 55,
   "id": "f7264783",
   "metadata": {},
   "outputs": [
    {
     "data": {
      "text/html": [
       "<div>\n",
       "<style scoped>\n",
       "    .dataframe tbody tr th:only-of-type {\n",
       "        vertical-align: middle;\n",
       "    }\n",
       "\n",
       "    .dataframe tbody tr th {\n",
       "        vertical-align: top;\n",
       "    }\n",
       "\n",
       "    .dataframe thead th {\n",
       "        text-align: right;\n",
       "    }\n",
       "</style>\n",
       "<table border=\"1\" class=\"dataframe\">\n",
       "  <thead>\n",
       "    <tr style=\"text-align: right;\">\n",
       "      <th></th>\n",
       "      <th>Lab Id</th>\n",
       "      <th>Zipcode</th>\n",
       "      <th>latitude</th>\n",
       "      <th>longitude</th>\n",
       "      <th>street</th>\n",
       "      <th>city</th>\n",
       "      <th>state</th>\n",
       "    </tr>\n",
       "  </thead>\n",
       "  <tbody>\n",
       "    <tr>\n",
       "      <th>0</th>\n",
       "      <td>L152</td>\n",
       "      <td>30096</td>\n",
       "      <td>34.000319</td>\n",
       "      <td>-84.1629724</td>\n",
       "      <td>3800 PLEASANT HILL RD STE 1</td>\n",
       "      <td>DULUTH</td>\n",
       "      <td>GA</td>\n",
       "    </tr>\n",
       "    <tr>\n",
       "      <th>1</th>\n",
       "      <td>L520</td>\n",
       "      <td>13440</td>\n",
       "      <td>43.2311327</td>\n",
       "      <td>-75.4445363</td>\n",
       "      <td>1614 N JAMES ST</td>\n",
       "      <td>ROME</td>\n",
       "      <td>NY</td>\n",
       "    </tr>\n",
       "    <tr>\n",
       "      <th>2</th>\n",
       "      <td>L141</td>\n",
       "      <td>98034</td>\n",
       "      <td>47.7162786</td>\n",
       "      <td>-122.1838152</td>\n",
       "      <td>12911 120TH AVE NE STE D60</td>\n",
       "      <td>KIRKLAND</td>\n",
       "      <td>WA</td>\n",
       "    </tr>\n",
       "    <tr>\n",
       "      <th>3</th>\n",
       "      <td>L524</td>\n",
       "      <td>30342</td>\n",
       "      <td>33.9093875</td>\n",
       "      <td>-84.3529096</td>\n",
       "      <td>5667 PEACHTREE DUNWOODY RD 250</td>\n",
       "      <td>ATLANTA</td>\n",
       "      <td>GA</td>\n",
       "    </tr>\n",
       "    <tr>\n",
       "      <th>4</th>\n",
       "      <td>L545</td>\n",
       "      <td>61469</td>\n",
       "      <td>40.9309925</td>\n",
       "      <td>-90.9437598</td>\n",
       "      <td>1204 IL HWY 164</td>\n",
       "      <td>OQUAWKA</td>\n",
       "      <td>IL</td>\n",
       "    </tr>\n",
       "  </tbody>\n",
       "</table>\n",
       "</div>"
      ],
      "text/plain": [
       "  Lab Id Zipcode    latitude     longitude                          street  \\\n",
       "0   L152   30096   34.000319   -84.1629724     3800 PLEASANT HILL RD STE 1   \n",
       "1   L520   13440  43.2311327   -75.4445363                 1614 N JAMES ST   \n",
       "2   L141   98034  47.7162786  -122.1838152      12911 120TH AVE NE STE D60   \n",
       "3   L524   30342  33.9093875   -84.3529096  5667 PEACHTREE DUNWOODY RD 250   \n",
       "4   L545   61469  40.9309925   -90.9437598                 1204 IL HWY 164   \n",
       "\n",
       "        city state  \n",
       "0     DULUTH    GA  \n",
       "1       ROME    NY  \n",
       "2   KIRKLAND    WA  \n",
       "3    ATLANTA    GA  \n",
       "4    OQUAWKA    IL  "
      ]
     },
     "execution_count": 55,
     "metadata": {},
     "output_type": "execute_result"
    }
   ],
   "source": [
    "# Separar, também, o endereço entre rua, cidade e estado-zipcode \n",
    "df_geocode[['street', 'city', 'state_zipcode']] = df_geocode['Address'].str.split(',', expand=True)\n",
    "\n",
    "# Separrar o estado e o zipcode\n",
    "df_geocode[['state', '_zipcode']] = df_geocode['state_zipcode'].str.strip().str.split(' ', expand=True)\n",
    "\n",
    "# Deletar a coluna de _zipcode, Address e state_zipcode (sem mais necessidade)\n",
    "df_geocode.drop(columns=['Address', 'state_zipcode', '_zipcode'], inplace=True)\n",
    "\n",
    "df_geocode.head()"
   ]
  },
  {
   "cell_type": "code",
   "execution_count": 56,
   "id": "61d220de",
   "metadata": {},
   "outputs": [
    {
     "name": "stdout",
     "output_type": "stream",
     "text": [
      "<class 'pandas.core.frame.DataFrame'>\n",
      "Index: 118 entries, 0 to 118\n",
      "Data columns (total 7 columns):\n",
      " #   Column     Non-Null Count  Dtype \n",
      "---  ------     --------------  ----- \n",
      " 0   Lab Id     118 non-null    object\n",
      " 1   Zipcode    118 non-null    object\n",
      " 2   latitude   118 non-null    object\n",
      " 3   longitude  118 non-null    object\n",
      " 4   street     118 non-null    object\n",
      " 5   city       118 non-null    object\n",
      " 6   state      118 non-null    object\n",
      "dtypes: object(7)\n",
      "memory usage: 7.4+ KB\n"
     ]
    }
   ],
   "source": [
    "# Verificando a organização\n",
    "df_geocode.info()"
   ]
  },
  {
   "cell_type": "markdown",
   "id": "e2fe2a8b",
   "metadata": {},
   "source": [
    "---"
   ]
  },
  {
   "cell_type": "markdown",
   "id": "fe7fc270",
   "metadata": {},
   "source": [
    "# Remover outliers"
   ]
  },
  {
   "cell_type": "code",
   "execution_count": 57,
   "id": "ea0bbe55",
   "metadata": {},
   "outputs": [
    {
     "data": {
      "text/html": [
       "<div>\n",
       "<style scoped>\n",
       "    .dataframe tbody tr th:only-of-type {\n",
       "        vertical-align: middle;\n",
       "    }\n",
       "\n",
       "    .dataframe tbody tr th {\n",
       "        vertical-align: top;\n",
       "    }\n",
       "\n",
       "    .dataframe thead th {\n",
       "        text-align: right;\n",
       "    }\n",
       "</style>\n",
       "<table border=\"1\" class=\"dataframe\">\n",
       "  <thead>\n",
       "    <tr style=\"text-align: right;\">\n",
       "      <th></th>\n",
       "      <th>Lab Id</th>\n",
       "      <th>Zipcode</th>\n",
       "      <th>latitude</th>\n",
       "      <th>longitude</th>\n",
       "      <th>street</th>\n",
       "      <th>city</th>\n",
       "      <th>state</th>\n",
       "    </tr>\n",
       "  </thead>\n",
       "  <tbody>\n",
       "    <tr>\n",
       "      <th>count</th>\n",
       "      <td>118</td>\n",
       "      <td>118</td>\n",
       "      <td>118</td>\n",
       "      <td>118</td>\n",
       "      <td>118</td>\n",
       "      <td>118</td>\n",
       "      <td>118</td>\n",
       "    </tr>\n",
       "    <tr>\n",
       "      <th>unique</th>\n",
       "      <td>118</td>\n",
       "      <td>105</td>\n",
       "      <td>116</td>\n",
       "      <td>116</td>\n",
       "      <td>118</td>\n",
       "      <td>79</td>\n",
       "      <td>13</td>\n",
       "    </tr>\n",
       "    <tr>\n",
       "      <th>top</th>\n",
       "      <td>L152</td>\n",
       "      <td>98034</td>\n",
       "      <td>37.7754429</td>\n",
       "      <td>-121.9669886</td>\n",
       "      <td>3800 PLEASANT HILL RD STE 1</td>\n",
       "      <td>PHILADELPHIA</td>\n",
       "      <td>WA</td>\n",
       "    </tr>\n",
       "    <tr>\n",
       "      <th>freq</th>\n",
       "      <td>1</td>\n",
       "      <td>3</td>\n",
       "      <td>2</td>\n",
       "      <td>2</td>\n",
       "      <td>1</td>\n",
       "      <td>13</td>\n",
       "      <td>20</td>\n",
       "    </tr>\n",
       "  </tbody>\n",
       "</table>\n",
       "</div>"
      ],
      "text/plain": [
       "       Lab Id Zipcode    latitude     longitude                       street  \\\n",
       "count     118     118         118           118                          118   \n",
       "unique    118     105         116           116                          118   \n",
       "top      L152   98034  37.7754429  -121.9669886  3800 PLEASANT HILL RD STE 1   \n",
       "freq        1       3           2             2                            1   \n",
       "\n",
       "                 city state  \n",
       "count             118   118  \n",
       "unique             79    13  \n",
       "top      PHILADELPHIA    WA  \n",
       "freq               13    20  "
      ]
     },
     "execution_count": 57,
     "metadata": {},
     "output_type": "execute_result"
    }
   ],
   "source": [
    "df_geocode.describe()"
   ]
  },
  {
   "cell_type": "markdown",
   "id": "f374b1ba",
   "metadata": {},
   "source": [
    "Como o data set representa a localização de cada laboratório, não tem muita aplicabilidade a remoção de outliers"
   ]
  },
  {
   "cell_type": "markdown",
   "id": "991c74b9",
   "metadata": {},
   "source": [
    "---"
   ]
  },
  {
   "cell_type": "markdown",
   "id": "51fc82e0",
   "metadata": {},
   "source": [
    "# Transformações Gerais"
   ]
  },
  {
   "cell_type": "code",
   "execution_count": 58,
   "id": "c696c451",
   "metadata": {},
   "outputs": [],
   "source": [
    "# Transformando as colunas em snake_case\n",
    "to_snake_case(df_geocode)\n",
    "\n",
    "# Limpando os espaços em branco\n",
    "clean_whitespace(df_geocode)"
   ]
  },
  {
   "cell_type": "code",
   "execution_count": 59,
   "id": "204e8572",
   "metadata": {},
   "outputs": [
    {
     "data": {
      "text/html": [
       "<div>\n",
       "<style scoped>\n",
       "    .dataframe tbody tr th:only-of-type {\n",
       "        vertical-align: middle;\n",
       "    }\n",
       "\n",
       "    .dataframe tbody tr th {\n",
       "        vertical-align: top;\n",
       "    }\n",
       "\n",
       "    .dataframe thead th {\n",
       "        text-align: right;\n",
       "    }\n",
       "</style>\n",
       "<table border=\"1\" class=\"dataframe\">\n",
       "  <thead>\n",
       "    <tr style=\"text-align: right;\">\n",
       "      <th></th>\n",
       "      <th>lab_id</th>\n",
       "      <th>zipcode</th>\n",
       "      <th>latitude</th>\n",
       "      <th>longitude</th>\n",
       "      <th>street</th>\n",
       "      <th>city</th>\n",
       "      <th>state</th>\n",
       "    </tr>\n",
       "  </thead>\n",
       "  <tbody>\n",
       "    <tr>\n",
       "      <th>0</th>\n",
       "      <td>L152</td>\n",
       "      <td>30096</td>\n",
       "      <td>34.000319</td>\n",
       "      <td>-84.1629724</td>\n",
       "      <td>3800 PLEASANT HILL RD STE 1</td>\n",
       "      <td>DULUTH</td>\n",
       "      <td>GA</td>\n",
       "    </tr>\n",
       "    <tr>\n",
       "      <th>1</th>\n",
       "      <td>L520</td>\n",
       "      <td>13440</td>\n",
       "      <td>43.2311327</td>\n",
       "      <td>-75.4445363</td>\n",
       "      <td>1614 N JAMES ST</td>\n",
       "      <td>ROME</td>\n",
       "      <td>NY</td>\n",
       "    </tr>\n",
       "    <tr>\n",
       "      <th>2</th>\n",
       "      <td>L141</td>\n",
       "      <td>98034</td>\n",
       "      <td>47.7162786</td>\n",
       "      <td>-122.1838152</td>\n",
       "      <td>12911 120TH AVE NE STE D60</td>\n",
       "      <td>KIRKLAND</td>\n",
       "      <td>WA</td>\n",
       "    </tr>\n",
       "    <tr>\n",
       "      <th>3</th>\n",
       "      <td>L524</td>\n",
       "      <td>30342</td>\n",
       "      <td>33.9093875</td>\n",
       "      <td>-84.3529096</td>\n",
       "      <td>5667 PEACHTREE DUNWOODY RD 250</td>\n",
       "      <td>ATLANTA</td>\n",
       "      <td>GA</td>\n",
       "    </tr>\n",
       "    <tr>\n",
       "      <th>4</th>\n",
       "      <td>L545</td>\n",
       "      <td>61469</td>\n",
       "      <td>40.9309925</td>\n",
       "      <td>-90.9437598</td>\n",
       "      <td>1204 IL HWY 164</td>\n",
       "      <td>OQUAWKA</td>\n",
       "      <td>IL</td>\n",
       "    </tr>\n",
       "  </tbody>\n",
       "</table>\n",
       "</div>"
      ],
      "text/plain": [
       "  lab_id zipcode    latitude     longitude                          street  \\\n",
       "0   L152   30096   34.000319   -84.1629724     3800 PLEASANT HILL RD STE 1   \n",
       "1   L520   13440  43.2311327   -75.4445363                 1614 N JAMES ST   \n",
       "2   L141   98034  47.7162786  -122.1838152      12911 120TH AVE NE STE D60   \n",
       "3   L524   30342  33.9093875   -84.3529096  5667 PEACHTREE DUNWOODY RD 250   \n",
       "4   L545   61469  40.9309925   -90.9437598                 1204 IL HWY 164   \n",
       "\n",
       "       city state  \n",
       "0    DULUTH    GA  \n",
       "1      ROME    NY  \n",
       "2  KIRKLAND    WA  \n",
       "3   ATLANTA    GA  \n",
       "4   OQUAWKA    IL  "
      ]
     },
     "execution_count": 59,
     "metadata": {},
     "output_type": "execute_result"
    }
   ],
   "source": [
    "df_geocode.head()"
   ]
  },
  {
   "cell_type": "markdown",
   "id": "caff7f22",
   "metadata": {},
   "source": [
    "---"
   ]
  },
  {
   "cell_type": "markdown",
   "id": "32a16046",
   "metadata": {},
   "source": [
    "# Validação Final"
   ]
  },
  {
   "cell_type": "code",
   "execution_count": 60,
   "id": "49c4deaf",
   "metadata": {},
   "outputs": [
    {
     "data": {
      "text/html": [
       "<div>\n",
       "<style scoped>\n",
       "    .dataframe tbody tr th:only-of-type {\n",
       "        vertical-align: middle;\n",
       "    }\n",
       "\n",
       "    .dataframe tbody tr th {\n",
       "        vertical-align: top;\n",
       "    }\n",
       "\n",
       "    .dataframe thead th {\n",
       "        text-align: right;\n",
       "    }\n",
       "</style>\n",
       "<table border=\"1\" class=\"dataframe\">\n",
       "  <thead>\n",
       "    <tr style=\"text-align: right;\">\n",
       "      <th></th>\n",
       "      <th>lab_id</th>\n",
       "      <th>zipcode</th>\n",
       "      <th>latitude</th>\n",
       "      <th>longitude</th>\n",
       "      <th>street</th>\n",
       "      <th>city</th>\n",
       "      <th>state</th>\n",
       "    </tr>\n",
       "  </thead>\n",
       "  <tbody>\n",
       "    <tr>\n",
       "      <th>count</th>\n",
       "      <td>118</td>\n",
       "      <td>118</td>\n",
       "      <td>118</td>\n",
       "      <td>118</td>\n",
       "      <td>118</td>\n",
       "      <td>118</td>\n",
       "      <td>118</td>\n",
       "    </tr>\n",
       "    <tr>\n",
       "      <th>unique</th>\n",
       "      <td>118</td>\n",
       "      <td>105</td>\n",
       "      <td>116</td>\n",
       "      <td>116</td>\n",
       "      <td>118</td>\n",
       "      <td>79</td>\n",
       "      <td>13</td>\n",
       "    </tr>\n",
       "    <tr>\n",
       "      <th>top</th>\n",
       "      <td>L152</td>\n",
       "      <td>98034</td>\n",
       "      <td>37.7754429</td>\n",
       "      <td>-121.9669886</td>\n",
       "      <td>3800 PLEASANT HILL RD STE 1</td>\n",
       "      <td>PHILADELPHIA</td>\n",
       "      <td>WA</td>\n",
       "    </tr>\n",
       "    <tr>\n",
       "      <th>freq</th>\n",
       "      <td>1</td>\n",
       "      <td>3</td>\n",
       "      <td>2</td>\n",
       "      <td>2</td>\n",
       "      <td>1</td>\n",
       "      <td>13</td>\n",
       "      <td>20</td>\n",
       "    </tr>\n",
       "  </tbody>\n",
       "</table>\n",
       "</div>"
      ],
      "text/plain": [
       "       lab_id zipcode    latitude     longitude                       street  \\\n",
       "count     118     118         118           118                          118   \n",
       "unique    118     105         116           116                          118   \n",
       "top      L152   98034  37.7754429  -121.9669886  3800 PLEASANT HILL RD STE 1   \n",
       "freq        1       3           2             2                            1   \n",
       "\n",
       "                city state  \n",
       "count            118   118  \n",
       "unique            79    13  \n",
       "top     PHILADELPHIA    WA  \n",
       "freq              13    20  "
      ]
     },
     "execution_count": 60,
     "metadata": {},
     "output_type": "execute_result"
    }
   ],
   "source": [
    "df_geocode.describe(include='all')"
   ]
  },
  {
   "cell_type": "markdown",
   "id": "850b5444",
   "metadata": {},
   "source": [
    "---"
   ]
  },
  {
   "cell_type": "markdown",
   "id": "29f3314d",
   "metadata": {},
   "source": [
    "# Exportar data set limpo"
   ]
  },
  {
   "cell_type": "code",
   "execution_count": 61,
   "id": "68eabcc5",
   "metadata": {},
   "outputs": [],
   "source": [
    "df_geocode.to_csv('../../data/processed/geocode_data_clean.csv', index=False)"
   ]
  }
 ],
 "metadata": {
  "kernelspec": {
   "display_name": "venv",
   "language": "python",
   "name": "python3"
  },
  "language_info": {
   "codemirror_mode": {
    "name": "ipython",
    "version": 3
   },
   "file_extension": ".py",
   "mimetype": "text/x-python",
   "name": "python",
   "nbconvert_exporter": "python",
   "pygments_lexer": "ipython3",
   "version": "3.10.12"
  }
 },
 "nbformat": 4,
 "nbformat_minor": 5
}
