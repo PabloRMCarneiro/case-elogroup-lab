{
 "cells": [
  {
   "cell_type": "code",
   "execution_count": null,
   "id": "2304eb21",
   "metadata": {},
   "outputs": [],
   "source": [
    "# Importando as bibliotecas necessárias\n",
    "import os\n",
    "import sys\n",
    "\n",
    "import pandas as pd\n",
    "\n",
    "sys.path.append(os.path.abspath(\"../../\"))\n",
    "from scripts.utils import to_snake_case, clean_whitespace"
   ]
  },
  {
   "cell_type": "code",
   "execution_count": 2,
   "id": "812790f1",
   "metadata": {},
   "outputs": [],
   "source": [
    "# Configurar pandas para exibir todas as colunas\n",
    "pd.set_option('display.max_columns', None)"
   ]
  },
  {
   "cell_type": "markdown",
   "id": "5f504f03",
   "metadata": {},
   "source": [
    "---"
   ]
  },
  {
   "cell_type": "markdown",
   "id": "545ef1c5",
   "metadata": {},
   "source": [
    "# Carregar data set"
   ]
  },
  {
   "cell_type": "code",
   "execution_count": 3,
   "id": "6b432580",
   "metadata": {},
   "outputs": [
    {
     "data": {
      "text/html": [
       "<div>\n",
       "<style scoped>\n",
       "    .dataframe tbody tr th:only-of-type {\n",
       "        vertical-align: middle;\n",
       "    }\n",
       "\n",
       "    .dataframe tbody tr th {\n",
       "        vertical-align: top;\n",
       "    }\n",
       "\n",
       "    .dataframe thead th {\n",
       "        text-align: right;\n",
       "    }\n",
       "</style>\n",
       "<table border=\"1\" class=\"dataframe\">\n",
       "  <thead>\n",
       "    <tr style=\"text-align: right;\">\n",
       "      <th></th>\n",
       "      <th>CodItem</th>\n",
       "      <th>Desc Item</th>\n",
       "      <th>Category</th>\n",
       "      <th>Family</th>\n",
       "      <th>Speciality</th>\n",
       "      <th>Testing Cost</th>\n",
       "    </tr>\n",
       "  </thead>\n",
       "  <tbody>\n",
       "    <tr>\n",
       "      <th>0</th>\n",
       "      <td>70003237</td>\n",
       "      <td>MAGNESIO, SORO (EXEMPLO DE EXPRESSAO DE RESULT...</td>\n",
       "      <td>CA</td>\n",
       "      <td>CORELAB</td>\n",
       "      <td>BIOCHEMISTRY</td>\n",
       "      <td>1.78</td>\n",
       "    </tr>\n",
       "    <tr>\n",
       "      <th>1</th>\n",
       "      <td>70000638</td>\n",
       "      <td>HEMOGRAMA, AUTOMATIZADO, SANGUE</td>\n",
       "      <td>CA</td>\n",
       "      <td>HEMATO</td>\n",
       "      <td>BLOOD COUNT</td>\n",
       "      <td>2.46</td>\n",
       "    </tr>\n",
       "    <tr>\n",
       "      <th>2</th>\n",
       "      <td>70001597</td>\n",
       "      <td>FERRITINA, SORO</td>\n",
       "      <td>CA</td>\n",
       "      <td>CORELAB</td>\n",
       "      <td>IMMUNOHORMONE</td>\n",
       "      <td>2.11</td>\n",
       "    </tr>\n",
       "    <tr>\n",
       "      <th>3</th>\n",
       "      <td>70000103</td>\n",
       "      <td>FERRO, DOSAGEM, SORO (EXEMPLO DE EXPRESSAO DE ...</td>\n",
       "      <td>CA</td>\n",
       "      <td>CORELAB</td>\n",
       "      <td>BIOCHEMISTRY</td>\n",
       "      <td>0.80</td>\n",
       "    </tr>\n",
       "    <tr>\n",
       "      <th>4</th>\n",
       "      <td>70000224</td>\n",
       "      <td>CALCIO, DOSAGEM, SORO (EXEMPLO DE EXPRESSAO DE...</td>\n",
       "      <td>CA</td>\n",
       "      <td>CORELAB</td>\n",
       "      <td>BIOCHEMISTRY</td>\n",
       "      <td>1.02</td>\n",
       "    </tr>\n",
       "  </tbody>\n",
       "</table>\n",
       "</div>"
      ],
      "text/plain": [
       "    CodItem                                          Desc Item Category  \\\n",
       "0  70003237  MAGNESIO, SORO (EXEMPLO DE EXPRESSAO DE RESULT...       CA   \n",
       "1  70000638                    HEMOGRAMA, AUTOMATIZADO, SANGUE       CA   \n",
       "2  70001597                                    FERRITINA, SORO       CA   \n",
       "3  70000103  FERRO, DOSAGEM, SORO (EXEMPLO DE EXPRESSAO DE ...       CA   \n",
       "4  70000224  CALCIO, DOSAGEM, SORO (EXEMPLO DE EXPRESSAO DE...       CA   \n",
       "\n",
       "    Family     Speciality  Testing Cost  \n",
       "0  CORELAB   BIOCHEMISTRY          1.78  \n",
       "1   HEMATO    BLOOD COUNT          2.46  \n",
       "2  CORELAB  IMMUNOHORMONE          2.11  \n",
       "3  CORELAB   BIOCHEMISTRY          0.80  \n",
       "4  CORELAB   BIOCHEMISTRY          1.02  "
      ]
     },
     "execution_count": 3,
     "metadata": {},
     "output_type": "execute_result"
    }
   ],
   "source": [
    "df_exams = pd.read_csv('../../data/raw/exams_data.csv')\n",
    "df_exams.head()"
   ]
  },
  {
   "cell_type": "markdown",
   "id": "2019c920",
   "metadata": {},
   "source": [
    "---"
   ]
  },
  {
   "cell_type": "markdown",
   "id": "0fc4ba38",
   "metadata": {},
   "source": [
    "# Verificar valores duplicados"
   ]
  },
  {
   "cell_type": "code",
   "execution_count": 4,
   "id": "8615128f",
   "metadata": {},
   "outputs": [
    {
     "data": {
      "text/plain": [
       "np.int64(0)"
      ]
     },
     "execution_count": 4,
     "metadata": {},
     "output_type": "execute_result"
    }
   ],
   "source": [
    "# Verificando a quantidade de linhas duplicadas\n",
    "df_exams.duplicated().sum()"
   ]
  },
  {
   "cell_type": "markdown",
   "id": "39a08a06",
   "metadata": {},
   "source": [
    "---"
   ]
  },
  {
   "cell_type": "markdown",
   "id": "5b74a416",
   "metadata": {},
   "source": [
    "# Analisar os tipos de dados"
   ]
  },
  {
   "cell_type": "code",
   "execution_count": 5,
   "id": "2c6b4175",
   "metadata": {},
   "outputs": [
    {
     "name": "stdout",
     "output_type": "stream",
     "text": [
      "<class 'pandas.core.frame.DataFrame'>\n",
      "RangeIndex: 2002 entries, 0 to 2001\n",
      "Data columns (total 6 columns):\n",
      " #   Column        Non-Null Count  Dtype  \n",
      "---  ------        --------------  -----  \n",
      " 0   CodItem       2002 non-null   int64  \n",
      " 1   Desc Item     2002 non-null   object \n",
      " 2   Category      2002 non-null   object \n",
      " 3   Family        2002 non-null   object \n",
      " 4   Speciality    2002 non-null   object \n",
      " 5   Testing Cost  2002 non-null   float64\n",
      "dtypes: float64(1), int64(1), object(4)\n",
      "memory usage: 94.0+ KB\n"
     ]
    }
   ],
   "source": [
    "df_exams.info()"
   ]
  },
  {
   "cell_type": "markdown",
   "id": "04df9b1f",
   "metadata": {},
   "source": [
    "- A coluna `CodItem` por se tratar de um identificador é ideal que seja uma string."
   ]
  },
  {
   "cell_type": "code",
   "execution_count": 6,
   "id": "7e7091b4",
   "metadata": {},
   "outputs": [],
   "source": [
    "df_exams['CodItem'] = df_exams['CodItem'].astype(str)"
   ]
  },
  {
   "cell_type": "markdown",
   "id": "982a1bb2",
   "metadata": {},
   "source": [
    "---"
   ]
  },
  {
   "cell_type": "markdown",
   "id": "5f75a7d7",
   "metadata": {},
   "source": [
    "# Verificar valores nulos e ausentes"
   ]
  },
  {
   "cell_type": "code",
   "execution_count": 7,
   "id": "8107f2e7",
   "metadata": {},
   "outputs": [
    {
     "data": {
      "text/plain": [
       "CodItem         0\n",
       "Desc Item       0\n",
       "Category        0\n",
       "Family          0\n",
       "Speciality      0\n",
       "Testing Cost    0\n",
       "dtype: int64"
      ]
     },
     "execution_count": 7,
     "metadata": {},
     "output_type": "execute_result"
    }
   ],
   "source": [
    "# Verificando a quantidade de valores nulos\n",
    "df_exams.isnull().sum()"
   ]
  },
  {
   "cell_type": "code",
   "execution_count": 8,
   "id": "3f7f4d24",
   "metadata": {},
   "outputs": [
    {
     "data": {
      "text/plain": [
       "CodItem         0\n",
       "Desc Item       0\n",
       "Category        0\n",
       "Family          0\n",
       "Speciality      0\n",
       "Testing Cost    0\n",
       "dtype: int64"
      ]
     },
     "execution_count": 8,
     "metadata": {},
     "output_type": "execute_result"
    }
   ],
   "source": [
    "# Verificando a quantidade de valores ausentes\n",
    "df_exams.isna().sum()"
   ]
  },
  {
   "cell_type": "markdown",
   "id": "991c74b9",
   "metadata": {},
   "source": [
    "---"
   ]
  },
  {
   "cell_type": "markdown",
   "id": "51fc82e0",
   "metadata": {},
   "source": [
    "# Transformações Gerais"
   ]
  },
  {
   "cell_type": "code",
   "execution_count": 9,
   "id": "c696c451",
   "metadata": {},
   "outputs": [],
   "source": [
    "# Transformando as colunas em snake_case\n",
    "to_snake_case(df_exams)\n",
    "\n",
    "# Limpando os espaços em branco\n",
    "clean_whitespace(df_exams)"
   ]
  },
  {
   "cell_type": "markdown",
   "id": "caff7f22",
   "metadata": {},
   "source": [
    "---"
   ]
  },
  {
   "cell_type": "markdown",
   "id": "32a16046",
   "metadata": {},
   "source": [
    "# Validação Final"
   ]
  },
  {
   "cell_type": "code",
   "execution_count": 10,
   "id": "49c4deaf",
   "metadata": {},
   "outputs": [
    {
     "data": {
      "text/html": [
       "<div>\n",
       "<style scoped>\n",
       "    .dataframe tbody tr th:only-of-type {\n",
       "        vertical-align: middle;\n",
       "    }\n",
       "\n",
       "    .dataframe tbody tr th {\n",
       "        vertical-align: top;\n",
       "    }\n",
       "\n",
       "    .dataframe thead th {\n",
       "        text-align: right;\n",
       "    }\n",
       "</style>\n",
       "<table border=\"1\" class=\"dataframe\">\n",
       "  <thead>\n",
       "    <tr style=\"text-align: right;\">\n",
       "      <th></th>\n",
       "      <th>cod_item</th>\n",
       "      <th>desc__item</th>\n",
       "      <th>category</th>\n",
       "      <th>family</th>\n",
       "      <th>speciality</th>\n",
       "      <th>testing__cost</th>\n",
       "    </tr>\n",
       "  </thead>\n",
       "  <tbody>\n",
       "    <tr>\n",
       "      <th>count</th>\n",
       "      <td>2002</td>\n",
       "      <td>2002</td>\n",
       "      <td>2002</td>\n",
       "      <td>2002</td>\n",
       "      <td>2002</td>\n",
       "      <td>2002.000000</td>\n",
       "    </tr>\n",
       "    <tr>\n",
       "      <th>unique</th>\n",
       "      <td>2001</td>\n",
       "      <td>1997</td>\n",
       "      <td>7</td>\n",
       "      <td>23</td>\n",
       "      <td>77</td>\n",
       "      <td>NaN</td>\n",
       "    </tr>\n",
       "    <tr>\n",
       "      <th>top</th>\n",
       "      <td>70004701</td>\n",
       "      <td>PLAQUETAS, ANTICORPOS IGG E IGM, SORO</td>\n",
       "      <td>CA</td>\n",
       "      <td>CORELAB</td>\n",
       "      <td>IMMUNOHORMONE</td>\n",
       "      <td>NaN</td>\n",
       "    </tr>\n",
       "    <tr>\n",
       "      <th>freq</th>\n",
       "      <td>2</td>\n",
       "      <td>2</td>\n",
       "      <td>1578</td>\n",
       "      <td>990</td>\n",
       "      <td>472</td>\n",
       "      <td>NaN</td>\n",
       "    </tr>\n",
       "    <tr>\n",
       "      <th>mean</th>\n",
       "      <td>NaN</td>\n",
       "      <td>NaN</td>\n",
       "      <td>NaN</td>\n",
       "      <td>NaN</td>\n",
       "      <td>NaN</td>\n",
       "      <td>77.767453</td>\n",
       "    </tr>\n",
       "    <tr>\n",
       "      <th>std</th>\n",
       "      <td>NaN</td>\n",
       "      <td>NaN</td>\n",
       "      <td>NaN</td>\n",
       "      <td>NaN</td>\n",
       "      <td>NaN</td>\n",
       "      <td>146.066382</td>\n",
       "    </tr>\n",
       "    <tr>\n",
       "      <th>min</th>\n",
       "      <td>NaN</td>\n",
       "      <td>NaN</td>\n",
       "      <td>NaN</td>\n",
       "      <td>NaN</td>\n",
       "      <td>NaN</td>\n",
       "      <td>0.000000</td>\n",
       "    </tr>\n",
       "    <tr>\n",
       "      <th>25%</th>\n",
       "      <td>NaN</td>\n",
       "      <td>NaN</td>\n",
       "      <td>NaN</td>\n",
       "      <td>NaN</td>\n",
       "      <td>NaN</td>\n",
       "      <td>4.812500</td>\n",
       "    </tr>\n",
       "    <tr>\n",
       "      <th>50%</th>\n",
       "      <td>NaN</td>\n",
       "      <td>NaN</td>\n",
       "      <td>NaN</td>\n",
       "      <td>NaN</td>\n",
       "      <td>NaN</td>\n",
       "      <td>21.190000</td>\n",
       "    </tr>\n",
       "    <tr>\n",
       "      <th>75%</th>\n",
       "      <td>NaN</td>\n",
       "      <td>NaN</td>\n",
       "      <td>NaN</td>\n",
       "      <td>NaN</td>\n",
       "      <td>NaN</td>\n",
       "      <td>79.270000</td>\n",
       "    </tr>\n",
       "    <tr>\n",
       "      <th>max</th>\n",
       "      <td>NaN</td>\n",
       "      <td>NaN</td>\n",
       "      <td>NaN</td>\n",
       "      <td>NaN</td>\n",
       "      <td>NaN</td>\n",
       "      <td>1762.460000</td>\n",
       "    </tr>\n",
       "  </tbody>\n",
       "</table>\n",
       "</div>"
      ],
      "text/plain": [
       "        cod_item                             desc__item category   family  \\\n",
       "count       2002                                   2002     2002     2002   \n",
       "unique      2001                                   1997        7       23   \n",
       "top     70004701  PLAQUETAS, ANTICORPOS IGG E IGM, SORO       CA  CORELAB   \n",
       "freq           2                                      2     1578      990   \n",
       "mean         NaN                                    NaN      NaN      NaN   \n",
       "std          NaN                                    NaN      NaN      NaN   \n",
       "min          NaN                                    NaN      NaN      NaN   \n",
       "25%          NaN                                    NaN      NaN      NaN   \n",
       "50%          NaN                                    NaN      NaN      NaN   \n",
       "75%          NaN                                    NaN      NaN      NaN   \n",
       "max          NaN                                    NaN      NaN      NaN   \n",
       "\n",
       "           speciality  testing__cost  \n",
       "count            2002    2002.000000  \n",
       "unique             77            NaN  \n",
       "top     IMMUNOHORMONE            NaN  \n",
       "freq              472            NaN  \n",
       "mean              NaN      77.767453  \n",
       "std               NaN     146.066382  \n",
       "min               NaN       0.000000  \n",
       "25%               NaN       4.812500  \n",
       "50%               NaN      21.190000  \n",
       "75%               NaN      79.270000  \n",
       "max               NaN    1762.460000  "
      ]
     },
     "execution_count": 10,
     "metadata": {},
     "output_type": "execute_result"
    }
   ],
   "source": [
    "df_exams.describe(include='all')"
   ]
  },
  {
   "cell_type": "markdown",
   "id": "850b5444",
   "metadata": {},
   "source": [
    "---"
   ]
  },
  {
   "cell_type": "markdown",
   "id": "29f3314d",
   "metadata": {},
   "source": [
    "# Exportar data set limpo"
   ]
  },
  {
   "cell_type": "code",
   "execution_count": 11,
   "id": "68eabcc5",
   "metadata": {},
   "outputs": [],
   "source": [
    "df_exams.to_csv('../../data/interim/exams_data_clean.csv', index=False)"
   ]
  }
 ],
 "metadata": {
  "kernelspec": {
   "display_name": "venv",
   "language": "python",
   "name": "python3"
  },
  "language_info": {
   "codemirror_mode": {
    "name": "ipython",
    "version": 3
   },
   "file_extension": ".py",
   "mimetype": "text/x-python",
   "name": "python",
   "nbconvert_exporter": "python",
   "pygments_lexer": "ipython3",
   "version": "3.10.12"
  }
 },
 "nbformat": 4,
 "nbformat_minor": 5
}
