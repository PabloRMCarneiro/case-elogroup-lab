{
 "cells": [
  {
   "cell_type": "code",
   "execution_count": 31,
   "id": "2304eb21",
   "metadata": {},
   "outputs": [],
   "source": [
    "# Importando as bibliotecas necessárias\n",
    "import os\n",
    "import sys\n",
    "\n",
    "import pandas as pd\n",
    "\n",
    "sys.path.append(os.path.abspath(\"../../\"))\n",
    "from pipe.preprocess.utils import to_snake_case, clean_whitespace"
   ]
  },
  {
   "cell_type": "code",
   "execution_count": 32,
   "id": "812790f1",
   "metadata": {},
   "outputs": [],
   "source": [
    "# Configurar pandas para exibir todas as colunas\n",
    "pd.set_option('display.max_columns', None)"
   ]
  },
  {
   "cell_type": "markdown",
   "id": "5f504f03",
   "metadata": {},
   "source": [
    "---"
   ]
  },
  {
   "cell_type": "markdown",
   "id": "545ef1c5",
   "metadata": {},
   "source": [
    "# Carregar data set"
   ]
  },
  {
   "cell_type": "code",
   "execution_count": 33,
   "id": "6b432580",
   "metadata": {},
   "outputs": [
    {
     "data": {
      "text/html": [
       "<div>\n",
       "<style scoped>\n",
       "    .dataframe tbody tr th:only-of-type {\n",
       "        vertical-align: middle;\n",
       "    }\n",
       "\n",
       "    .dataframe tbody tr th {\n",
       "        vertical-align: top;\n",
       "    }\n",
       "\n",
       "    .dataframe thead th {\n",
       "        text-align: right;\n",
       "    }\n",
       "</style>\n",
       "<table border=\"1\" class=\"dataframe\">\n",
       "  <thead>\n",
       "    <tr style=\"text-align: right;\">\n",
       "      <th></th>\n",
       "      <th>Unnamed: 0</th>\n",
       "      <th>id</th>\n",
       "      <th>Geographic Area Name</th>\n",
       "      <th>TotalHouseholds_LessThan$10.000</th>\n",
       "      <th>TotalHouseholds_$10.000to$14.999</th>\n",
       "      <th>TotalHouseholds_$15.000to$24.999</th>\n",
       "      <th>TotalHouseholds_$25.000to$34.999</th>\n",
       "      <th>TotalHouseholds_$35.000to$49.999</th>\n",
       "      <th>TotalHouseholds_$50.000to$74.999</th>\n",
       "      <th>TotalHouseholds_$75.000to$99.999</th>\n",
       "      <th>TotalHouseholds_$100.000to$149.999</th>\n",
       "      <th>TotalHouseholds_$150.000to$199.999</th>\n",
       "      <th>TotalHouseholds_$200.000OrMore</th>\n",
       "    </tr>\n",
       "  </thead>\n",
       "  <tbody>\n",
       "    <tr>\n",
       "      <th>0</th>\n",
       "      <td>0</td>\n",
       "      <td>8600000US35004</td>\n",
       "      <td>ZCTA5 35004</td>\n",
       "      <td>198</td>\n",
       "      <td>71</td>\n",
       "      <td>298</td>\n",
       "      <td>513</td>\n",
       "      <td>647</td>\n",
       "      <td>1117</td>\n",
       "      <td>529</td>\n",
       "      <td>945</td>\n",
       "      <td>245</td>\n",
       "      <td>61</td>\n",
       "    </tr>\n",
       "    <tr>\n",
       "      <th>1</th>\n",
       "      <td>1</td>\n",
       "      <td>8600000US35005</td>\n",
       "      <td>ZCTA5 35005</td>\n",
       "      <td>188</td>\n",
       "      <td>184</td>\n",
       "      <td>318</td>\n",
       "      <td>293</td>\n",
       "      <td>353</td>\n",
       "      <td>562</td>\n",
       "      <td>299</td>\n",
       "      <td>407</td>\n",
       "      <td>67</td>\n",
       "      <td>26</td>\n",
       "    </tr>\n",
       "    <tr>\n",
       "      <th>2</th>\n",
       "      <td>2</td>\n",
       "      <td>8600000US35006</td>\n",
       "      <td>ZCTA5 35006</td>\n",
       "      <td>71</td>\n",
       "      <td>20</td>\n",
       "      <td>117</td>\n",
       "      <td>104</td>\n",
       "      <td>154</td>\n",
       "      <td>176</td>\n",
       "      <td>124</td>\n",
       "      <td>194</td>\n",
       "      <td>51</td>\n",
       "      <td>7</td>\n",
       "    </tr>\n",
       "    <tr>\n",
       "      <th>3</th>\n",
       "      <td>3</td>\n",
       "      <td>8600000US35007</td>\n",
       "      <td>ZCTA5 35007</td>\n",
       "      <td>396</td>\n",
       "      <td>208</td>\n",
       "      <td>670</td>\n",
       "      <td>462</td>\n",
       "      <td>1173</td>\n",
       "      <td>1854</td>\n",
       "      <td>1578</td>\n",
       "      <td>2224</td>\n",
       "      <td>473</td>\n",
       "      <td>254</td>\n",
       "    </tr>\n",
       "    <tr>\n",
       "      <th>4</th>\n",
       "      <td>4</td>\n",
       "      <td>8600000US35010</td>\n",
       "      <td>ZCTA5 35010</td>\n",
       "      <td>700</td>\n",
       "      <td>610</td>\n",
       "      <td>1093</td>\n",
       "      <td>957</td>\n",
       "      <td>1056</td>\n",
       "      <td>1512</td>\n",
       "      <td>807</td>\n",
       "      <td>749</td>\n",
       "      <td>254</td>\n",
       "      <td>249</td>\n",
       "    </tr>\n",
       "  </tbody>\n",
       "</table>\n",
       "</div>"
      ],
      "text/plain": [
       "   Unnamed: 0              id Geographic Area Name  \\\n",
       "0           0  8600000US35004          ZCTA5 35004   \n",
       "1           1  8600000US35005          ZCTA5 35005   \n",
       "2           2  8600000US35006          ZCTA5 35006   \n",
       "3           3  8600000US35007          ZCTA5 35007   \n",
       "4           4  8600000US35010          ZCTA5 35010   \n",
       "\n",
       "   TotalHouseholds_LessThan$10.000  TotalHouseholds_$10.000to$14.999  \\\n",
       "0                              198                                71   \n",
       "1                              188                               184   \n",
       "2                               71                                20   \n",
       "3                              396                               208   \n",
       "4                              700                               610   \n",
       "\n",
       "   TotalHouseholds_$15.000to$24.999  TotalHouseholds_$25.000to$34.999  \\\n",
       "0                               298                               513   \n",
       "1                               318                               293   \n",
       "2                               117                               104   \n",
       "3                               670                               462   \n",
       "4                              1093                               957   \n",
       "\n",
       "   TotalHouseholds_$35.000to$49.999  TotalHouseholds_$50.000to$74.999  \\\n",
       "0                               647                              1117   \n",
       "1                               353                               562   \n",
       "2                               154                               176   \n",
       "3                              1173                              1854   \n",
       "4                              1056                              1512   \n",
       "\n",
       "   TotalHouseholds_$75.000to$99.999  TotalHouseholds_$100.000to$149.999  \\\n",
       "0                               529                                 945   \n",
       "1                               299                                 407   \n",
       "2                               124                                 194   \n",
       "3                              1578                                2224   \n",
       "4                               807                                 749   \n",
       "\n",
       "   TotalHouseholds_$150.000to$199.999  TotalHouseholds_$200.000OrMore  \n",
       "0                                 245                              61  \n",
       "1                                  67                              26  \n",
       "2                                  51                               7  \n",
       "3                                 473                             254  \n",
       "4                                 254                             249  "
      ]
     },
     "execution_count": 33,
     "metadata": {},
     "output_type": "execute_result"
    }
   ],
   "source": [
    "df_economic = pd.read_csv('../../data/raw/EconomicData_ZCTAs.csv')\n",
    "df_economic.head()"
   ]
  },
  {
   "cell_type": "code",
   "execution_count": 34,
   "id": "57a8f991",
   "metadata": {},
   "outputs": [],
   "source": [
    "# Deletar a coluna 'Unnamed: 0' (apenas é um índice)\n",
    "df_economic.drop(columns=['Unnamed: 0'], inplace=True)"
   ]
  },
  {
   "cell_type": "markdown",
   "id": "2019c920",
   "metadata": {},
   "source": [
    "---"
   ]
  },
  {
   "cell_type": "markdown",
   "id": "0fc4ba38",
   "metadata": {},
   "source": [
    "# Verificar valores duplicados"
   ]
  },
  {
   "cell_type": "code",
   "execution_count": 35,
   "id": "8615128f",
   "metadata": {},
   "outputs": [
    {
     "data": {
      "text/plain": [
       "np.int64(596160)"
      ]
     },
     "execution_count": 35,
     "metadata": {},
     "output_type": "execute_result"
    }
   ],
   "source": [
    "# Verificando a quantidade de linhas duplicadas\n",
    "df_economic.duplicated().sum()"
   ]
  },
  {
   "cell_type": "code",
   "execution_count": 36,
   "id": "90fd5e02",
   "metadata": {},
   "outputs": [],
   "source": [
    "# Removendo as linhas duplicadas\n",
    "df_economic.drop_duplicates(inplace=True)"
   ]
  },
  {
   "cell_type": "code",
   "execution_count": 37,
   "id": "734123d6",
   "metadata": {},
   "outputs": [
    {
     "data": {
      "text/plain": [
       "np.int64(0)"
      ]
     },
     "execution_count": 37,
     "metadata": {},
     "output_type": "execute_result"
    }
   ],
   "source": [
    "# Verificando a quantidade de linhas duplicadas\n",
    "df_economic.duplicated().sum()"
   ]
  },
  {
   "cell_type": "markdown",
   "id": "39a08a06",
   "metadata": {},
   "source": [
    "---"
   ]
  },
  {
   "cell_type": "markdown",
   "id": "5b74a416",
   "metadata": {},
   "source": [
    "# Analisar os tipos de dados"
   ]
  },
  {
   "cell_type": "code",
   "execution_count": 38,
   "id": "2c6b4175",
   "metadata": {},
   "outputs": [
    {
     "name": "stdout",
     "output_type": "stream",
     "text": [
      "<class 'pandas.core.frame.DataFrame'>\n",
      "Index: 33120 entries, 0 to 33119\n",
      "Data columns (total 12 columns):\n",
      " #   Column                              Non-Null Count  Dtype \n",
      "---  ------                              --------------  ----- \n",
      " 0   id                                  33120 non-null  object\n",
      " 1   Geographic Area Name                33120 non-null  object\n",
      " 2   TotalHouseholds_LessThan$10.000     33120 non-null  int64 \n",
      " 3   TotalHouseholds_$10.000to$14.999    33120 non-null  int64 \n",
      " 4   TotalHouseholds_$15.000to$24.999    33120 non-null  int64 \n",
      " 5   TotalHouseholds_$25.000to$34.999    33120 non-null  int64 \n",
      " 6   TotalHouseholds_$35.000to$49.999    33120 non-null  int64 \n",
      " 7   TotalHouseholds_$50.000to$74.999    33120 non-null  int64 \n",
      " 8   TotalHouseholds_$75.000to$99.999    33120 non-null  int64 \n",
      " 9   TotalHouseholds_$100.000to$149.999  33120 non-null  int64 \n",
      " 10  TotalHouseholds_$150.000to$199.999  33120 non-null  int64 \n",
      " 11  TotalHouseholds_$200.000OrMore      33120 non-null  int64 \n",
      "dtypes: int64(10), object(2)\n",
      "memory usage: 3.3+ MB\n"
     ]
    }
   ],
   "source": [
    "df_economic.info()"
   ]
  },
  {
   "cell_type": "markdown",
   "id": "e5b8b361",
   "metadata": {},
   "source": [
    "Todas as colunas aparentam a tipagem correta, no entanto imaginando criar a pipeline, pode-se forçar a tipagem das colunas que contenha a string `TotalHouseholds`"
   ]
  },
  {
   "cell_type": "code",
   "execution_count": 39,
   "id": "e8ce3784",
   "metadata": {},
   "outputs": [],
   "source": [
    "num_cols = [col for col in df_economic.columns if col.startswith('TotalHouseholds')]\n",
    "df_economic[num_cols] = df_economic[num_cols].apply(pd.to_numeric, errors='coerce')"
   ]
  },
  {
   "cell_type": "markdown",
   "id": "982a1bb2",
   "metadata": {},
   "source": [
    "---"
   ]
  },
  {
   "cell_type": "markdown",
   "id": "1d2ed203",
   "metadata": {},
   "source": [
    "# Remover outliers"
   ]
  },
  {
   "cell_type": "markdown",
   "id": "d98d139e",
   "metadata": {},
   "source": [
    "Considerando que os valores em `TotalHouseholds` representam uma contagem real dos domicílios em cada região. Valores altos ou baixos refletem as características demográficas do zipcode e não erros ou ruídos que distorçam uma análise estatística. "
   ]
  },
  {
   "cell_type": "markdown",
   "id": "0b9736dd",
   "metadata": {},
   "source": [
    "---"
   ]
  },
  {
   "cell_type": "markdown",
   "id": "911b591e",
   "metadata": {},
   "source": [
    "# Organizar os dados"
   ]
  },
  {
   "cell_type": "markdown",
   "id": "86579cc1",
   "metadata": {},
   "source": [
    "Como a coluna `Geographic Area Name` contém o valor de zipcode, é realizado a extração."
   ]
  },
  {
   "cell_type": "code",
   "execution_count": 40,
   "id": "517e3095",
   "metadata": {},
   "outputs": [
    {
     "data": {
      "text/html": [
       "<div>\n",
       "<style scoped>\n",
       "    .dataframe tbody tr th:only-of-type {\n",
       "        vertical-align: middle;\n",
       "    }\n",
       "\n",
       "    .dataframe tbody tr th {\n",
       "        vertical-align: top;\n",
       "    }\n",
       "\n",
       "    .dataframe thead th {\n",
       "        text-align: right;\n",
       "    }\n",
       "</style>\n",
       "<table border=\"1\" class=\"dataframe\">\n",
       "  <thead>\n",
       "    <tr style=\"text-align: right;\">\n",
       "      <th></th>\n",
       "      <th>id</th>\n",
       "      <th>TotalHouseholds_LessThan$10.000</th>\n",
       "      <th>TotalHouseholds_$10.000to$14.999</th>\n",
       "      <th>TotalHouseholds_$15.000to$24.999</th>\n",
       "      <th>TotalHouseholds_$25.000to$34.999</th>\n",
       "      <th>TotalHouseholds_$35.000to$49.999</th>\n",
       "      <th>TotalHouseholds_$50.000to$74.999</th>\n",
       "      <th>TotalHouseholds_$75.000to$99.999</th>\n",
       "      <th>TotalHouseholds_$100.000to$149.999</th>\n",
       "      <th>TotalHouseholds_$150.000to$199.999</th>\n",
       "      <th>TotalHouseholds_$200.000OrMore</th>\n",
       "      <th>zipcode</th>\n",
       "    </tr>\n",
       "  </thead>\n",
       "  <tbody>\n",
       "    <tr>\n",
       "      <th>0</th>\n",
       "      <td>8600000US35004</td>\n",
       "      <td>198</td>\n",
       "      <td>71</td>\n",
       "      <td>298</td>\n",
       "      <td>513</td>\n",
       "      <td>647</td>\n",
       "      <td>1117</td>\n",
       "      <td>529</td>\n",
       "      <td>945</td>\n",
       "      <td>245</td>\n",
       "      <td>61</td>\n",
       "      <td>35004</td>\n",
       "    </tr>\n",
       "    <tr>\n",
       "      <th>1</th>\n",
       "      <td>8600000US35005</td>\n",
       "      <td>188</td>\n",
       "      <td>184</td>\n",
       "      <td>318</td>\n",
       "      <td>293</td>\n",
       "      <td>353</td>\n",
       "      <td>562</td>\n",
       "      <td>299</td>\n",
       "      <td>407</td>\n",
       "      <td>67</td>\n",
       "      <td>26</td>\n",
       "      <td>35005</td>\n",
       "    </tr>\n",
       "    <tr>\n",
       "      <th>2</th>\n",
       "      <td>8600000US35006</td>\n",
       "      <td>71</td>\n",
       "      <td>20</td>\n",
       "      <td>117</td>\n",
       "      <td>104</td>\n",
       "      <td>154</td>\n",
       "      <td>176</td>\n",
       "      <td>124</td>\n",
       "      <td>194</td>\n",
       "      <td>51</td>\n",
       "      <td>7</td>\n",
       "      <td>35006</td>\n",
       "    </tr>\n",
       "    <tr>\n",
       "      <th>3</th>\n",
       "      <td>8600000US35007</td>\n",
       "      <td>396</td>\n",
       "      <td>208</td>\n",
       "      <td>670</td>\n",
       "      <td>462</td>\n",
       "      <td>1173</td>\n",
       "      <td>1854</td>\n",
       "      <td>1578</td>\n",
       "      <td>2224</td>\n",
       "      <td>473</td>\n",
       "      <td>254</td>\n",
       "      <td>35007</td>\n",
       "    </tr>\n",
       "    <tr>\n",
       "      <th>4</th>\n",
       "      <td>8600000US35010</td>\n",
       "      <td>700</td>\n",
       "      <td>610</td>\n",
       "      <td>1093</td>\n",
       "      <td>957</td>\n",
       "      <td>1056</td>\n",
       "      <td>1512</td>\n",
       "      <td>807</td>\n",
       "      <td>749</td>\n",
       "      <td>254</td>\n",
       "      <td>249</td>\n",
       "      <td>35010</td>\n",
       "    </tr>\n",
       "  </tbody>\n",
       "</table>\n",
       "</div>"
      ],
      "text/plain": [
       "               id  TotalHouseholds_LessThan$10.000  \\\n",
       "0  8600000US35004                              198   \n",
       "1  8600000US35005                              188   \n",
       "2  8600000US35006                               71   \n",
       "3  8600000US35007                              396   \n",
       "4  8600000US35010                              700   \n",
       "\n",
       "   TotalHouseholds_$10.000to$14.999  TotalHouseholds_$15.000to$24.999  \\\n",
       "0                                71                               298   \n",
       "1                               184                               318   \n",
       "2                                20                               117   \n",
       "3                               208                               670   \n",
       "4                               610                              1093   \n",
       "\n",
       "   TotalHouseholds_$25.000to$34.999  TotalHouseholds_$35.000to$49.999  \\\n",
       "0                               513                               647   \n",
       "1                               293                               353   \n",
       "2                               104                               154   \n",
       "3                               462                              1173   \n",
       "4                               957                              1056   \n",
       "\n",
       "   TotalHouseholds_$50.000to$74.999  TotalHouseholds_$75.000to$99.999  \\\n",
       "0                              1117                               529   \n",
       "1                               562                               299   \n",
       "2                               176                               124   \n",
       "3                              1854                              1578   \n",
       "4                              1512                               807   \n",
       "\n",
       "   TotalHouseholds_$100.000to$149.999  TotalHouseholds_$150.000to$199.999  \\\n",
       "0                                 945                                 245   \n",
       "1                                 407                                  67   \n",
       "2                                 194                                  51   \n",
       "3                                2224                                 473   \n",
       "4                                 749                                 254   \n",
       "\n",
       "   TotalHouseholds_$200.000OrMore zipcode  \n",
       "0                              61   35004  \n",
       "1                              26   35005  \n",
       "2                               7   35006  \n",
       "3                             254   35007  \n",
       "4                             249   35010  "
      ]
     },
     "execution_count": 40,
     "metadata": {},
     "output_type": "execute_result"
    }
   ],
   "source": [
    "# Extraindo o zipcode da coluna 'Geographic Area Name'\n",
    "df_economic['zipcode'] = df_economic['Geographic Area Name'].str.extract(r'(\\d{5})')\n",
    "\n",
    "# Como a coluna 'Geographic Area Name' não é mais necessária, pode-se deletá-la\n",
    "df_economic.drop(columns='Geographic Area Name', inplace=True)\n",
    "\n",
    "\n",
    "df_economic.head()"
   ]
  },
  {
   "cell_type": "code",
   "execution_count": 41,
   "id": "e9f950ab",
   "metadata": {},
   "outputs": [],
   "source": [
    "# Com o objetivo de resduzir o número de colunas e facilitar a análise, pode-se transformar as colunas que possuem o mesmo prefixo em uma única coluna\n",
    "df_economic = pd.melt(df_economic,\n",
    "                  id_vars=['id', 'zipcode'], \n",
    "                  value_vars=num_cols,\n",
    "                  var_name='household_range',\n",
    "                  value_name='TotalHouseholds')"
   ]
  },
  {
   "cell_type": "code",
   "execution_count": 42,
   "id": "02f39728",
   "metadata": {},
   "outputs": [],
   "source": [
    "# Melhorando a legibilidade dos dados\n",
    "df_economic['household_range'] = (\n",
    "    df_economic['household_range']\n",
    "    .str.replace('TotalHouseholds_', '', regex=False)\n",
    "    .str.replace('to', ' - ', regex=False)\n",
    "    .str.replace('LessThan', '< ', regex=False)\n",
    "    .str.replace('OrMore', ' >=', regex=False)\n",
    ")"
   ]
  },
  {
   "cell_type": "code",
   "execution_count": 43,
   "id": "e8f5a71d",
   "metadata": {},
   "outputs": [
    {
     "data": {
      "text/html": [
       "<div>\n",
       "<style scoped>\n",
       "    .dataframe tbody tr th:only-of-type {\n",
       "        vertical-align: middle;\n",
       "    }\n",
       "\n",
       "    .dataframe tbody tr th {\n",
       "        vertical-align: top;\n",
       "    }\n",
       "\n",
       "    .dataframe thead th {\n",
       "        text-align: right;\n",
       "    }\n",
       "</style>\n",
       "<table border=\"1\" class=\"dataframe\">\n",
       "  <thead>\n",
       "    <tr style=\"text-align: right;\">\n",
       "      <th></th>\n",
       "      <th>id</th>\n",
       "      <th>zipcode</th>\n",
       "      <th>household_range</th>\n",
       "      <th>TotalHouseholds</th>\n",
       "    </tr>\n",
       "  </thead>\n",
       "  <tbody>\n",
       "    <tr>\n",
       "      <th>0</th>\n",
       "      <td>8600000US35004</td>\n",
       "      <td>35004</td>\n",
       "      <td>&lt; $10.000</td>\n",
       "      <td>198</td>\n",
       "    </tr>\n",
       "    <tr>\n",
       "      <th>1</th>\n",
       "      <td>8600000US35005</td>\n",
       "      <td>35005</td>\n",
       "      <td>&lt; $10.000</td>\n",
       "      <td>188</td>\n",
       "    </tr>\n",
       "    <tr>\n",
       "      <th>2</th>\n",
       "      <td>8600000US35006</td>\n",
       "      <td>35006</td>\n",
       "      <td>&lt; $10.000</td>\n",
       "      <td>71</td>\n",
       "    </tr>\n",
       "    <tr>\n",
       "      <th>3</th>\n",
       "      <td>8600000US35007</td>\n",
       "      <td>35007</td>\n",
       "      <td>&lt; $10.000</td>\n",
       "      <td>396</td>\n",
       "    </tr>\n",
       "    <tr>\n",
       "      <th>4</th>\n",
       "      <td>8600000US35010</td>\n",
       "      <td>35010</td>\n",
       "      <td>&lt; $10.000</td>\n",
       "      <td>700</td>\n",
       "    </tr>\n",
       "  </tbody>\n",
       "</table>\n",
       "</div>"
      ],
      "text/plain": [
       "               id zipcode household_range  TotalHouseholds\n",
       "0  8600000US35004   35004       < $10.000              198\n",
       "1  8600000US35005   35005       < $10.000              188\n",
       "2  8600000US35006   35006       < $10.000               71\n",
       "3  8600000US35007   35007       < $10.000              396\n",
       "4  8600000US35010   35010       < $10.000              700"
      ]
     },
     "execution_count": 43,
     "metadata": {},
     "output_type": "execute_result"
    }
   ],
   "source": [
    "# Verificando resultado\n",
    "df_economic.head()"
   ]
  },
  {
   "cell_type": "markdown",
   "id": "5f75a7d7",
   "metadata": {},
   "source": [
    "# Verificar valores nulos e ausentes"
   ]
  },
  {
   "cell_type": "code",
   "execution_count": 44,
   "id": "8107f2e7",
   "metadata": {},
   "outputs": [
    {
     "data": {
      "text/plain": [
       "id                 0\n",
       "zipcode            0\n",
       "household_range    0\n",
       "TotalHouseholds    0\n",
       "dtype: int64"
      ]
     },
     "execution_count": 44,
     "metadata": {},
     "output_type": "execute_result"
    }
   ],
   "source": [
    "# Verificando a quantidade de valores nulos\n",
    "df_economic.isnull().sum()"
   ]
  },
  {
   "cell_type": "code",
   "execution_count": 45,
   "id": "56299ff3",
   "metadata": {},
   "outputs": [
    {
     "data": {
      "text/plain": [
       "id                 0\n",
       "zipcode            0\n",
       "household_range    0\n",
       "TotalHouseholds    0\n",
       "dtype: int64"
      ]
     },
     "execution_count": 45,
     "metadata": {},
     "output_type": "execute_result"
    }
   ],
   "source": [
    "# Verificando a quantidade de valores ausentes\n",
    "df_economic.isna().sum()"
   ]
  },
  {
   "cell_type": "markdown",
   "id": "991c74b9",
   "metadata": {},
   "source": [
    "---"
   ]
  },
  {
   "cell_type": "markdown",
   "id": "51fc82e0",
   "metadata": {},
   "source": [
    "# Transformações Gerais"
   ]
  },
  {
   "cell_type": "code",
   "execution_count": 46,
   "id": "c696c451",
   "metadata": {},
   "outputs": [],
   "source": [
    "# Transformando as colunas em snake_case\n",
    "to_snake_case(df_economic)\n",
    "\n",
    "# Limpando os espaços em branco\n",
    "clean_whitespace(df_economic)"
   ]
  },
  {
   "cell_type": "code",
   "execution_count": 47,
   "id": "d726074c",
   "metadata": {},
   "outputs": [
    {
     "data": {
      "text/html": [
       "<div>\n",
       "<style scoped>\n",
       "    .dataframe tbody tr th:only-of-type {\n",
       "        vertical-align: middle;\n",
       "    }\n",
       "\n",
       "    .dataframe tbody tr th {\n",
       "        vertical-align: top;\n",
       "    }\n",
       "\n",
       "    .dataframe thead th {\n",
       "        text-align: right;\n",
       "    }\n",
       "</style>\n",
       "<table border=\"1\" class=\"dataframe\">\n",
       "  <thead>\n",
       "    <tr style=\"text-align: right;\">\n",
       "      <th></th>\n",
       "      <th>id</th>\n",
       "      <th>zipcode</th>\n",
       "      <th>household_range</th>\n",
       "      <th>total_households</th>\n",
       "    </tr>\n",
       "  </thead>\n",
       "  <tbody>\n",
       "    <tr>\n",
       "      <th>0</th>\n",
       "      <td>8600000US35004</td>\n",
       "      <td>35004</td>\n",
       "      <td>&lt; $10.000</td>\n",
       "      <td>198</td>\n",
       "    </tr>\n",
       "    <tr>\n",
       "      <th>1</th>\n",
       "      <td>8600000US35005</td>\n",
       "      <td>35005</td>\n",
       "      <td>&lt; $10.000</td>\n",
       "      <td>188</td>\n",
       "    </tr>\n",
       "    <tr>\n",
       "      <th>2</th>\n",
       "      <td>8600000US35006</td>\n",
       "      <td>35006</td>\n",
       "      <td>&lt; $10.000</td>\n",
       "      <td>71</td>\n",
       "    </tr>\n",
       "    <tr>\n",
       "      <th>3</th>\n",
       "      <td>8600000US35007</td>\n",
       "      <td>35007</td>\n",
       "      <td>&lt; $10.000</td>\n",
       "      <td>396</td>\n",
       "    </tr>\n",
       "    <tr>\n",
       "      <th>4</th>\n",
       "      <td>8600000US35010</td>\n",
       "      <td>35010</td>\n",
       "      <td>&lt; $10.000</td>\n",
       "      <td>700</td>\n",
       "    </tr>\n",
       "  </tbody>\n",
       "</table>\n",
       "</div>"
      ],
      "text/plain": [
       "               id zipcode household_range  total_households\n",
       "0  8600000US35004   35004       < $10.000               198\n",
       "1  8600000US35005   35005       < $10.000               188\n",
       "2  8600000US35006   35006       < $10.000                71\n",
       "3  8600000US35007   35007       < $10.000               396\n",
       "4  8600000US35010   35010       < $10.000               700"
      ]
     },
     "execution_count": 47,
     "metadata": {},
     "output_type": "execute_result"
    }
   ],
   "source": [
    "df_economic.head()"
   ]
  },
  {
   "cell_type": "markdown",
   "id": "caff7f22",
   "metadata": {},
   "source": [
    "---"
   ]
  },
  {
   "cell_type": "markdown",
   "id": "32a16046",
   "metadata": {},
   "source": [
    "# Validação Final"
   ]
  },
  {
   "cell_type": "code",
   "execution_count": 48,
   "id": "49c4deaf",
   "metadata": {},
   "outputs": [
    {
     "data": {
      "text/html": [
       "<div>\n",
       "<style scoped>\n",
       "    .dataframe tbody tr th:only-of-type {\n",
       "        vertical-align: middle;\n",
       "    }\n",
       "\n",
       "    .dataframe tbody tr th {\n",
       "        vertical-align: top;\n",
       "    }\n",
       "\n",
       "    .dataframe thead th {\n",
       "        text-align: right;\n",
       "    }\n",
       "</style>\n",
       "<table border=\"1\" class=\"dataframe\">\n",
       "  <thead>\n",
       "    <tr style=\"text-align: right;\">\n",
       "      <th></th>\n",
       "      <th>id</th>\n",
       "      <th>zipcode</th>\n",
       "      <th>household_range</th>\n",
       "      <th>total_households</th>\n",
       "    </tr>\n",
       "  </thead>\n",
       "  <tbody>\n",
       "    <tr>\n",
       "      <th>count</th>\n",
       "      <td>331200</td>\n",
       "      <td>331200</td>\n",
       "      <td>331200</td>\n",
       "      <td>331200.000000</td>\n",
       "    </tr>\n",
       "    <tr>\n",
       "      <th>unique</th>\n",
       "      <td>33120</td>\n",
       "      <td>33120</td>\n",
       "      <td>10</td>\n",
       "      <td>NaN</td>\n",
       "    </tr>\n",
       "    <tr>\n",
       "      <th>top</th>\n",
       "      <td>8600000US00906</td>\n",
       "      <td>00906</td>\n",
       "      <td>&lt; $10.000</td>\n",
       "      <td>NaN</td>\n",
       "    </tr>\n",
       "    <tr>\n",
       "      <th>freq</th>\n",
       "      <td>10</td>\n",
       "      <td>10</td>\n",
       "      <td>33120</td>\n",
       "      <td>NaN</td>\n",
       "    </tr>\n",
       "    <tr>\n",
       "      <th>mean</th>\n",
       "      <td>NaN</td>\n",
       "      <td>NaN</td>\n",
       "      <td>NaN</td>\n",
       "      <td>368.194876</td>\n",
       "    </tr>\n",
       "    <tr>\n",
       "      <th>std</th>\n",
       "      <td>NaN</td>\n",
       "      <td>NaN</td>\n",
       "      <td>NaN</td>\n",
       "      <td>654.321233</td>\n",
       "    </tr>\n",
       "    <tr>\n",
       "      <th>min</th>\n",
       "      <td>NaN</td>\n",
       "      <td>NaN</td>\n",
       "      <td>NaN</td>\n",
       "      <td>0.000000</td>\n",
       "    </tr>\n",
       "    <tr>\n",
       "      <th>25%</th>\n",
       "      <td>NaN</td>\n",
       "      <td>NaN</td>\n",
       "      <td>NaN</td>\n",
       "      <td>17.000000</td>\n",
       "    </tr>\n",
       "    <tr>\n",
       "      <th>50%</th>\n",
       "      <td>NaN</td>\n",
       "      <td>NaN</td>\n",
       "      <td>NaN</td>\n",
       "      <td>87.000000</td>\n",
       "    </tr>\n",
       "    <tr>\n",
       "      <th>75%</th>\n",
       "      <td>NaN</td>\n",
       "      <td>NaN</td>\n",
       "      <td>NaN</td>\n",
       "      <td>402.000000</td>\n",
       "    </tr>\n",
       "    <tr>\n",
       "      <th>max</th>\n",
       "      <td>NaN</td>\n",
       "      <td>NaN</td>\n",
       "      <td>NaN</td>\n",
       "      <td>11968.000000</td>\n",
       "    </tr>\n",
       "  </tbody>\n",
       "</table>\n",
       "</div>"
      ],
      "text/plain": [
       "                    id zipcode household_range  total_households\n",
       "count           331200  331200          331200     331200.000000\n",
       "unique           33120   33120              10               NaN\n",
       "top     8600000US00906   00906       < $10.000               NaN\n",
       "freq                10      10           33120               NaN\n",
       "mean               NaN     NaN             NaN        368.194876\n",
       "std                NaN     NaN             NaN        654.321233\n",
       "min                NaN     NaN             NaN          0.000000\n",
       "25%                NaN     NaN             NaN         17.000000\n",
       "50%                NaN     NaN             NaN         87.000000\n",
       "75%                NaN     NaN             NaN        402.000000\n",
       "max                NaN     NaN             NaN      11968.000000"
      ]
     },
     "execution_count": 48,
     "metadata": {},
     "output_type": "execute_result"
    }
   ],
   "source": [
    "df_economic.describe(include='all')"
   ]
  },
  {
   "cell_type": "markdown",
   "id": "850b5444",
   "metadata": {},
   "source": [
    "---"
   ]
  },
  {
   "cell_type": "markdown",
   "id": "29f3314d",
   "metadata": {},
   "source": [
    "# Exportar data set limpo"
   ]
  },
  {
   "cell_type": "code",
   "execution_count": 49,
   "id": "68eabcc5",
   "metadata": {},
   "outputs": [],
   "source": [
    "df_economic.to_csv('../../data/processed/economic_data_clean.csv', index=False)"
   ]
  }
 ],
 "metadata": {
  "kernelspec": {
   "display_name": "venv",
   "language": "python",
   "name": "python3"
  },
  "language_info": {
   "codemirror_mode": {
    "name": "ipython",
    "version": 3
   },
   "file_extension": ".py",
   "mimetype": "text/x-python",
   "name": "python",
   "nbconvert_exporter": "python",
   "pygments_lexer": "ipython3",
   "version": "3.10.12"
  }
 },
 "nbformat": 4,
 "nbformat_minor": 5
}
