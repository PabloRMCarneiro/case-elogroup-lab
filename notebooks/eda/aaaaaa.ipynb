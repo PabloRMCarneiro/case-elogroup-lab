{
 "cells": [
  {
   "cell_type": "markdown",
   "id": "cfd82891",
   "metadata": {},
   "source": [
    "# Análise de categorias de exames por faixa etária\n",
    "# Juntando transactional_data com exams_data para obter categorias\n",
    "exams_with_categories = pd.merge(transactional_data, exams_data[['cod_item', 'category', 'family', 'speciality']], \n",
    "                                on='cod_item', how='left')\n",
    "\n",
    "# Análise de categorias mais comuns por faixa etária\n",
    "category_by_age = exams_with_categories.groupby(['age_group', 'category']).size().reset_index(name='count')\n",
    "category_by_age = category_by_age.sort_values(['age_group', 'count'], ascending=[True, False])\n",
    "\n",
    "# Especialidades mais comuns por faixa etária\n",
    "specialty_by_age = exams_with_categories.groupby(['age_group', 'speciality']).size().reset_index(name='count')\n",
    "specialty_by_age = specialty_by_age.sort_values(['age_group', 'count'], ascending=[True, False])\n",
    "\n",
    "print(\"\\nTop 3 categorias de exames por faixa etária:\")\n",
    "for age_group in age_labels:\n",
    "    top_categories = category_by_age[category_by_age['age_group'] == age_group].head(3)\n",
    "    print(f\"\\nFaixa etária {age_group}:\")\n",
    "    print(top_categories[['category', 'count']].to_string(index=False))\n",
    "\n",
    "print(\"\\nTop 3 especialidades por faixa etária:\")\n",
    "for age_group in age_labels:\n",
    "    top_specialties = specialty_by_age[specialty_by_age['age_group'] == age_group].head(3)\n",
    "    print(f\"\\nFaixa etária {age_group}:\")\n",
    "    print(top_specialties[['speciality', 'count']].to_string(index=False))"
   ]
  }
 ],
 "metadata": {
  "language_info": {
   "name": "python"
  }
 },
 "nbformat": 4,
 "nbformat_minor": 5
}
